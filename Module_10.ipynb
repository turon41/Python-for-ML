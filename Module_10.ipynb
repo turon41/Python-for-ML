{
  "nbformat": 4,
  "nbformat_minor": 0,
  "metadata": {
    "colab": {
      "provenance": [],
      "authorship_tag": "ABX9TyP2XI2NCSLsorD4YgQ0tihY",
      "include_colab_link": true
    },
    "kernelspec": {
      "name": "python3",
      "display_name": "Python 3"
    },
    "language_info": {
      "name": "python"
    }
  },
  "cells": [
    {
      "cell_type": "markdown",
      "metadata": {
        "id": "view-in-github",
        "colab_type": "text"
      },
      "source": [
        "<a href=\"https://colab.research.google.com/github/turon41/Python-for-ML/blob/main/Module_10.ipynb\" target=\"_parent\"><img src=\"https://colab.research.google.com/assets/colab-badge.svg\" alt=\"Open In Colab\"/></a>"
      ]
    },
    {
      "cell_type": "code",
      "execution_count": 55,
      "metadata": {
        "colab": {
          "base_uri": "https://localhost:8080/"
        },
        "id": "iwvHQfUWyVDo",
        "outputId": "c8813d10-86de-495f-cd3f-f8774d8280a1"
      },
      "outputs": [
        {
          "output_type": "stream",
          "name": "stdout",
          "text": [
            "[1, 2, 3, 1, 2, 3, 1, 2, 3, 1, 2, 3, 1, 2, 3]\n",
            "[5, 10, 15]\n"
          ]
        }
      ],
      "source": [
        "arr = [1,2,3]\n",
        "\n",
        "print( arr * 5 )\n",
        "\n",
        "arr = [ x*5 for x in arr]\n",
        "\n",
        "print(arr)"
      ]
    },
    {
      "cell_type": "code",
      "source": [
        "import numpy as np\n",
        "\n",
        "arr1 = np.array([1,2,3])\n",
        "\n",
        "arr1 = arr1 * 5\n",
        "\n",
        "print(arr1)"
      ],
      "metadata": {
        "colab": {
          "base_uri": "https://localhost:8080/"
        },
        "id": "uD91SdhUyfo-",
        "outputId": "c802a6f2-521b-41df-b32d-47877828438c"
      },
      "execution_count": 56,
      "outputs": [
        {
          "output_type": "stream",
          "name": "stdout",
          "text": [
            "[ 5 10 15]\n"
          ]
        }
      ]
    },
    {
      "cell_type": "code",
      "source": [],
      "metadata": {
        "id": "ZvR60jNFykWo"
      },
      "execution_count": 56,
      "outputs": []
    },
    {
      "cell_type": "markdown",
      "source": [
        "# Ndarray"
      ],
      "metadata": {
        "id": "X3qc6ujjyoJ0"
      }
    },
    {
      "cell_type": "code",
      "source": [
        "import numpy as np\n",
        "\n",
        "# 1d array\n",
        "arr1 = np.array([1,2,3,4,5])\n",
        "\n",
        "\n",
        "# 2d array\n",
        "arr2 = np.array([ [1,2,3], # row1\n",
        "                  [4,5,6] #row2\n",
        "                ])\n",
        "\n",
        "#3d array\n",
        "\n",
        "arr3 = np.array([\n",
        "    #1st floor\n",
        "    [ [1,2,3], # row1\n",
        "      [4,5,6]  ], #row2\n",
        "\n",
        "    #2nd floor\n",
        "\n",
        "     [[1,2,3], # row1\n",
        "      [4,5,6]  ], #row2\n",
        "\n",
        "\n",
        "    #3rd floor\n",
        "      [[1,2,3], # row1\n",
        "      [4,5,6]  ] #row2\n",
        "\n",
        "\n",
        "])"
      ],
      "metadata": {
        "id": "K8PIFLNiysUN"
      },
      "execution_count": 57,
      "outputs": []
    },
    {
      "cell_type": "code",
      "source": [],
      "metadata": {
        "id": "qdB5CsVSy1yM"
      },
      "execution_count": 57,
      "outputs": []
    },
    {
      "cell_type": "markdown",
      "source": [
        "# Array attributes"
      ],
      "metadata": {
        "id": "mHT0T12by5Dx"
      }
    },
    {
      "cell_type": "code",
      "source": [
        "# dimension\n",
        "print(arr1.ndim)\n",
        "print(arr2.ndim)\n",
        "print(arr3.ndim)\n",
        "\n",
        "\n",
        "#shape\n",
        "print(arr1.shape)\n",
        "print(arr2.shape)\n",
        "print(arr3.shape)\n",
        "\n",
        "\n",
        "#data type\n",
        "print(arr1.dtype)\n",
        "print(arr2.dtype)\n",
        "print(arr3.dtype)\n",
        "\n",
        "\n",
        "#size\n",
        "print(arr1.size)\n",
        "print(arr2.size)\n",
        "print(arr3.size)"
      ],
      "metadata": {
        "colab": {
          "base_uri": "https://localhost:8080/"
        },
        "id": "7uo4p2-By63z",
        "outputId": "53e8cdc2-604a-458b-b264-aaaae469e3fe"
      },
      "execution_count": 58,
      "outputs": [
        {
          "output_type": "stream",
          "name": "stdout",
          "text": [
            "1\n",
            "2\n",
            "3\n",
            "(5,)\n",
            "(2, 3)\n",
            "(3, 2, 3)\n",
            "int64\n",
            "int64\n",
            "int64\n",
            "5\n",
            "6\n",
            "18\n"
          ]
        }
      ]
    },
    {
      "cell_type": "code",
      "source": [],
      "metadata": {
        "id": "U9BmPtssy9WM"
      },
      "execution_count": 58,
      "outputs": []
    },
    {
      "cell_type": "markdown",
      "source": [
        "# ndarray datatypes"
      ],
      "metadata": {
        "id": "3LqQ_R5t5irI"
      }
    },
    {
      "cell_type": "code",
      "source": [
        "arr = np.array([1,2,3])\n",
        "\n",
        "print(arr.dtype)\n",
        "\n",
        "arr = np.array([1.5,2.4,3.2])\n",
        "print(arr.dtype)"
      ],
      "metadata": {
        "colab": {
          "base_uri": "https://localhost:8080/"
        },
        "id": "s2d1N_fd5qeH",
        "outputId": "aca59817-d232-4e79-de41-78aca80d1e09"
      },
      "execution_count": 59,
      "outputs": [
        {
          "output_type": "stream",
          "name": "stdout",
          "text": [
            "int64\n",
            "float64\n"
          ]
        }
      ]
    },
    {
      "cell_type": "code",
      "source": [
        "arr = np.array([1,2,3.2])\n",
        "# upcasted to float\n",
        "print(arr.dtype)\n",
        "\n",
        "#upcasted to string\n",
        "arr = np.array([1,2,3.2,'hello'])\n",
        "print(arr.dtype)\n",
        "\n",
        "\n",
        "arr = np.array([1,True,3.25,'hello',])\n",
        "print(arr.dtype)"
      ],
      "metadata": {
        "colab": {
          "base_uri": "https://localhost:8080/"
        },
        "id": "icw_OKwU5-Oi",
        "outputId": "6492937f-fb9e-4737-882f-77cc7268af46"
      },
      "execution_count": 60,
      "outputs": [
        {
          "output_type": "stream",
          "name": "stdout",
          "text": [
            "float64\n",
            "<U32\n",
            "<U32\n"
          ]
        }
      ]
    },
    {
      "cell_type": "code",
      "source": [],
      "metadata": {
        "id": "VMCf1OYK7QY5"
      },
      "execution_count": 60,
      "outputs": []
    },
    {
      "cell_type": "markdown",
      "source": [
        "# selecting a data type for an array"
      ],
      "metadata": {
        "id": "kYKs2vjh7Vte"
      }
    },
    {
      "cell_type": "code",
      "source": [
        "arr = np.array([1,2,300],dtype=np.int16)\n",
        "print(arr.dtype)\n",
        "print(arr)\n",
        "\n",
        "\n",
        "\n",
        "\n",
        "arr = arr.astype(np.int32)\n",
        "print(arr.dtype)\n",
        "\n",
        "\n",
        "#error\n",
        "arr = np.array([1,2,3.2,'hello'],dtype=np.float64)"
      ],
      "metadata": {
        "colab": {
          "base_uri": "https://localhost:8080/",
          "height": 228
        },
        "id": "eO6e92lD7X9J",
        "outputId": "35359c24-0a2f-4a3f-c1be-fb2535f4a8a8"
      },
      "execution_count": 61,
      "outputs": [
        {
          "output_type": "stream",
          "name": "stdout",
          "text": [
            "int16\n",
            "[  1   2 300]\n",
            "int32\n"
          ]
        },
        {
          "output_type": "error",
          "ename": "ValueError",
          "evalue": "could not convert string to float: 'hello'",
          "traceback": [
            "\u001b[0;31m---------------------------------------------------------------------------\u001b[0m",
            "\u001b[0;31mValueError\u001b[0m                                Traceback (most recent call last)",
            "\u001b[0;32m/tmp/ipython-input-2983353467.py\u001b[0m in \u001b[0;36m<cell line: 0>\u001b[0;34m()\u001b[0m\n\u001b[1;32m     11\u001b[0m \u001b[0;34m\u001b[0m\u001b[0m\n\u001b[1;32m     12\u001b[0m \u001b[0;31m#error\u001b[0m\u001b[0;34m\u001b[0m\u001b[0;34m\u001b[0m\u001b[0m\n\u001b[0;32m---> 13\u001b[0;31m \u001b[0marr\u001b[0m \u001b[0;34m=\u001b[0m \u001b[0mnp\u001b[0m\u001b[0;34m.\u001b[0m\u001b[0marray\u001b[0m\u001b[0;34m(\u001b[0m\u001b[0;34m[\u001b[0m\u001b[0;36m1\u001b[0m\u001b[0;34m,\u001b[0m\u001b[0;36m2\u001b[0m\u001b[0;34m,\u001b[0m\u001b[0;36m3.2\u001b[0m\u001b[0;34m,\u001b[0m\u001b[0;34m'hello'\u001b[0m\u001b[0;34m]\u001b[0m\u001b[0;34m,\u001b[0m\u001b[0mdtype\u001b[0m\u001b[0;34m=\u001b[0m\u001b[0mnp\u001b[0m\u001b[0;34m.\u001b[0m\u001b[0mfloat64\u001b[0m\u001b[0;34m)\u001b[0m\u001b[0;34m\u001b[0m\u001b[0;34m\u001b[0m\u001b[0m\n\u001b[0m",
            "\u001b[0;31mValueError\u001b[0m: could not convert string to float: 'hello'"
          ]
        }
      ]
    },
    {
      "cell_type": "code",
      "source": [],
      "metadata": {
        "id": "zJxuvFpT7bAo"
      },
      "execution_count": null,
      "outputs": []
    },
    {
      "cell_type": "markdown",
      "source": [
        "# ndarray creation from existing data"
      ],
      "metadata": {
        "id": "hJLjzPI98hJ1"
      }
    },
    {
      "cell_type": "code",
      "source": [
        "#list\n",
        "\n",
        "lst = [10,20,30,40 , 40.5]\n",
        "\n",
        "arr = np.array(lst, dtype=np.int32)\n",
        "\n",
        "# print(arr)\n",
        "# print(type(arr))\n",
        "# print(arr.dtype)\n",
        "\n",
        "\n",
        "mixed_lst = [10, True , 'Hello' ]\n",
        "\n",
        "arr = np.array(mixed_lst)\n",
        "\n",
        "# print(arr)\n",
        "# print(type(arr))\n",
        "# print(arr.dtype)\n",
        "\n",
        "\n",
        "matrix = [ [1,2,3], # row1\n",
        "           [4,5,6] #row2\n",
        "                ]\n",
        "\n",
        "arr = np.array(matrix)\n",
        "\n",
        "print(arr)\n",
        "print(type(arr))\n",
        "print(arr.dtype)\n",
        "print(arr.shape)\n",
        "print(arr.ndim)"
      ],
      "metadata": {
        "id": "1vEO38Rr8mzT"
      },
      "execution_count": null,
      "outputs": []
    },
    {
      "cell_type": "code",
      "source": [
        "#tuple\n",
        "\n",
        "tpl = (10,20,30)\n",
        "\n",
        "arr = np.array(tpl,dtype=np.int32)\n",
        "print(arr.dtype)\n",
        "arr = arr.astype(np.int16)\n",
        "print(arr)\n",
        "print(type(arr))\n",
        "print(arr.dtype)\n",
        "print(arr.shape)\n",
        "print(arr.ndim)"
      ],
      "metadata": {
        "id": "kE3Qpf5s8qTG"
      },
      "execution_count": null,
      "outputs": []
    },
    {
      "cell_type": "code",
      "source": [
        "\n",
        "#set\n",
        "\n",
        "st = { 1, 2, 3 }\n",
        "\n",
        "arr = np.array(list(st))\n",
        "print(arr.dtype)\n",
        "arr = arr.astype(np.int16)\n",
        "print(arr)\n",
        "print(type(arr))\n",
        "print(arr.dtype)\n",
        "print(arr.shape)\n",
        "print(arr.ndim)"
      ],
      "metadata": {
        "id": "Sx8EZpy_9mxb"
      },
      "execution_count": null,
      "outputs": []
    },
    {
      "cell_type": "code",
      "source": [
        "# dictionary\n",
        "\n",
        "dc = { 'a' : 10 , 'b' : 20 , 'c' :30 }\n",
        "\n",
        "keys = dc.keys()\n",
        "values = dc.values()\n",
        "items = dc.items()"
      ],
      "metadata": {
        "id": "lxt3pYpx9t-T"
      },
      "execution_count": null,
      "outputs": []
    },
    {
      "cell_type": "code",
      "source": [
        "\n",
        "# keys to ndarray\n",
        "\n",
        "arr = np.array(list(keys))\n",
        "print(arr)\n",
        "print(type(arr))\n",
        "print(arr.dtype)\n",
        "print(arr.shape)\n",
        "print(arr.ndim)\n",
        "print(arr.size)"
      ],
      "metadata": {
        "id": "GtA7Shbb-xU2"
      },
      "execution_count": null,
      "outputs": []
    },
    {
      "cell_type": "code",
      "source": [
        "# values to ndarray\n",
        "\n",
        "arr = np.array(list(values))\n",
        "print(arr)\n",
        "arr = arr.astype(np.int16)\n",
        "print(type(arr))\n",
        "print(arr.dtype)\n",
        "print(arr.shape)\n",
        "print(arr.ndim)\n",
        "print(arr.size)"
      ],
      "metadata": {
        "id": "kOZ_K2ui-zqp"
      },
      "execution_count": null,
      "outputs": []
    },
    {
      "cell_type": "code",
      "source": [
        "# items to ndarray\n",
        "\n",
        "arr = np.array(list(items))\n",
        "print(arr)\n",
        "print(type(arr))\n",
        "print(arr.dtype)\n",
        "print(arr.shape)\n",
        "print(arr.ndim)\n",
        "print(arr.size)"
      ],
      "metadata": {
        "id": "8nadE7iw-74G"
      },
      "execution_count": null,
      "outputs": []
    },
    {
      "cell_type": "code",
      "source": [],
      "metadata": {
        "id": "3Wx26Y7c_DDc"
      },
      "execution_count": null,
      "outputs": []
    },
    {
      "cell_type": "markdown",
      "source": [],
      "metadata": {
        "id": "8EtooB4a2txT"
      }
    },
    {
      "cell_type": "markdown",
      "source": [
        "# Creating ndarray from scratch"
      ],
      "metadata": {
        "id": "VCCx9Fv62uGS"
      }
    },
    {
      "cell_type": "code",
      "source": [
        "# np.zeros\n",
        "\n",
        "arr = np.zeros((2,3),dtype=np.int8)\n",
        "\n",
        "# print(arr)\n",
        "# print(type(arr))\n",
        "# print(arr.dtype)\n",
        "# print(arr.shape)\n",
        "# print(arr.ndim)\n",
        "# print(arr.size)\n",
        "\n",
        "arr = np.zeros_like(arr3) ## arr3 shape same\n",
        "print(arr)\n",
        "print(arr.shape)"
      ],
      "metadata": {
        "id": "3obZBjNx27Db"
      },
      "execution_count": null,
      "outputs": []
    },
    {
      "cell_type": "code",
      "source": [
        "#np.ones\n",
        "\n",
        "arr = np.ones((3,4,3),dtype=np.int8)\n",
        "\n",
        "# print(arr)\n",
        "# print(type(arr))\n",
        "# print(arr.dtype)\n",
        "# print(arr.shape)\n",
        "# print(arr.ndim)\n",
        "# print(arr.size)\n",
        "\n",
        "\n",
        "arr = np.ones_like(arr3) ## arr3 shape same\n",
        "print(arr)\n",
        "print(arr.shape)"
      ],
      "metadata": {
        "id": "sq7e5gNc2-eh"
      },
      "execution_count": null,
      "outputs": []
    },
    {
      "cell_type": "code",
      "source": [
        "\n",
        "#np.empty\n",
        "arr = np.empty((4,3),dtype=np.int8)\n",
        "\n",
        "# print(arr)\n",
        "# print(type(arr))\n",
        "# print(arr.dtype)\n",
        "# print(arr.shape)\n",
        "# print(arr.ndim)\n",
        "# print(arr.size)\n",
        "\n",
        "arr = np.empty_like(arr3) ## arr3 shape same\n",
        "print(arr)\n",
        "print(arr.shape)"
      ],
      "metadata": {
        "id": "axxD2tI63u23"
      },
      "execution_count": null,
      "outputs": []
    },
    {
      "cell_type": "code",
      "source": [
        "#np.full\n",
        "\n",
        "arr = np.full((4,3),np.inf)\n",
        "\n",
        "# print(arr)\n",
        "# print(type(arr))\n",
        "# print(arr.dtype)\n",
        "# print(arr.shape)\n",
        "# print(arr.ndim)\n",
        "# print(arr.size)\n",
        "\n",
        "\n",
        "arr = np.full_like(arr3,np.inf,dtype=np.float64)\n",
        "\n",
        "print(arr)\n",
        "print(arr.shape)\n",
        "print(arr.dtype)"
      ],
      "metadata": {
        "colab": {
          "base_uri": "https://localhost:8080/"
        },
        "id": "QWlCEXy34Frg",
        "outputId": "f822479a-b423-4ac4-afdb-6e3401a31f57"
      },
      "execution_count": 62,
      "outputs": [
        {
          "output_type": "stream",
          "name": "stdout",
          "text": [
            "[[[inf inf inf]\n",
            "  [inf inf inf]]\n",
            "\n",
            " [[inf inf inf]\n",
            "  [inf inf inf]]\n",
            "\n",
            " [[inf inf inf]\n",
            "  [inf inf inf]]]\n",
            "(3, 2, 3)\n",
            "float64\n"
          ]
        }
      ]
    },
    {
      "cell_type": "markdown",
      "source": [
        "# array creation with random values"
      ],
      "metadata": {
        "id": "_fFQ4Y9KAEyb"
      }
    },
    {
      "cell_type": "code",
      "source": [
        "# np.random.rand(shape)\n",
        "\n",
        "arr = np.random.rand(2,3) # 0 ->1\n",
        "\n",
        "print(arr)\n",
        "print(type(arr))\n",
        "print(arr.dtype)\n",
        "print(arr.shape)\n",
        "print(arr.ndim)\n",
        "print(arr.size)"
      ],
      "metadata": {
        "colab": {
          "base_uri": "https://localhost:8080/"
        },
        "id": "IuLH49ZUAIg5",
        "outputId": "b6c29ce8-2fc2-42be-8ecb-5f39a1271fec"
      },
      "execution_count": 63,
      "outputs": [
        {
          "output_type": "stream",
          "name": "stdout",
          "text": [
            "[[0.8163728  0.86674    0.05489403]\n",
            " [0.41668511 0.29939512 0.11406633]]\n",
            "<class 'numpy.ndarray'>\n",
            "float64\n",
            "(2, 3)\n",
            "2\n",
            "6\n"
          ]
        }
      ]
    },
    {
      "cell_type": "code",
      "source": [
        "# np.random.randint(start,end, shape)\n",
        "\n",
        "arr = np.random.randint(1,10 , (2,3))\n",
        "\n",
        "print(arr)\n",
        "print(type(arr))\n",
        "print(arr.dtype)\n",
        "print(arr.shape)\n",
        "print(arr.ndim)\n",
        "print(arr.size)"
      ],
      "metadata": {
        "colab": {
          "base_uri": "https://localhost:8080/"
        },
        "id": "yZBiZimnAOfS",
        "outputId": "69ab0cd9-b7c1-43c7-b1b3-1e90a72d184f"
      },
      "execution_count": 64,
      "outputs": [
        {
          "output_type": "stream",
          "name": "stdout",
          "text": [
            "[[3 2 2]\n",
            " [1 3 9]]\n",
            "<class 'numpy.ndarray'>\n",
            "int64\n",
            "(2, 3)\n",
            "2\n",
            "6\n"
          ]
        }
      ]
    },
    {
      "cell_type": "code",
      "source": [
        "# np.random.uniform(start,end, shape)\n",
        "\n",
        "arr = np.random.uniform(50,100, (3,3,4))\n",
        "\n",
        "print(arr)\n",
        "print(type(arr))\n",
        "print(arr.dtype)\n",
        "print(arr.shape)\n",
        "print(arr.ndim)\n",
        "print(arr.size)"
      ],
      "metadata": {
        "colab": {
          "base_uri": "https://localhost:8080/"
        },
        "id": "GAKLIv2rAWK5",
        "outputId": "9ffbded6-f73b-40aa-ae6b-03efdda1e1a7"
      },
      "execution_count": 65,
      "outputs": [
        {
          "output_type": "stream",
          "name": "stdout",
          "text": [
            "[[[73.30092289 70.14564361 93.51644539 81.89206051]\n",
            "  [80.76248202 53.04753416 91.08470156 85.07669435]\n",
            "  [94.39862954 58.76939288 92.30500365 86.00432554]]\n",
            "\n",
            " [[88.72738739 69.37773051 90.67991446 55.5562476 ]\n",
            "  [99.32109439 50.17778235 66.02669556 68.0201939 ]\n",
            "  [90.49978555 57.45554454 92.38306762 59.97298266]]\n",
            "\n",
            " [[51.71393916 76.216385   79.59544332 63.62681068]\n",
            "  [84.28088956 72.88639207 90.20194879 91.29236205]\n",
            "  [75.65252243 89.53271085 90.95457534 51.25632337]]]\n",
            "<class 'numpy.ndarray'>\n",
            "float64\n",
            "(3, 3, 4)\n",
            "3\n",
            "36\n"
          ]
        }
      ]
    },
    {
      "cell_type": "code",
      "source": [],
      "metadata": {
        "id": "YSCTN2uPAqPm"
      },
      "execution_count": 65,
      "outputs": []
    },
    {
      "cell_type": "markdown",
      "source": [
        "# array creation with range functions"
      ],
      "metadata": {
        "id": "dXa9cZ7KA_xS"
      }
    },
    {
      "cell_type": "code",
      "source": [
        "# np.arange(first , end , step ) -> similar to range function\n",
        "\n",
        "arr = np.arange(1 , 10 ,1 )\n",
        "arr_sh = np.arange(1 , 10 ,1 ).reshape(3,3)\n",
        "mat = arr.reshape(3,3)\n",
        "\n",
        "print(arr)\n",
        "print(mat)\n",
        "print(f\"array with reshape: {arr_sh}\")\n",
        "print(type(arr))\n",
        "print(arr.dtype)\n",
        "print(arr.shape)\n",
        "print(arr.ndim)\n",
        "print(arr.size)"
      ],
      "metadata": {
        "colab": {
          "base_uri": "https://localhost:8080/"
        },
        "id": "NzGszk3fBAUI",
        "outputId": "824071d0-d2d2-4c0e-e071-37eb47262f6a"
      },
      "execution_count": 66,
      "outputs": [
        {
          "output_type": "stream",
          "name": "stdout",
          "text": [
            "[1 2 3 4 5 6 7 8 9]\n",
            "[[1 2 3]\n",
            " [4 5 6]\n",
            " [7 8 9]]\n",
            "array with reshape: [[1 2 3]\n",
            " [4 5 6]\n",
            " [7 8 9]]\n",
            "<class 'numpy.ndarray'>\n",
            "int64\n",
            "(9,)\n",
            "1\n",
            "9\n"
          ]
        }
      ]
    },
    {
      "cell_type": "code",
      "source": [
        "# np.linspace(start , end(included) , koita point pick kra lgbe)\n",
        "\n",
        "arr = np.linspace(0, 4 ,6)\n",
        "\n",
        "\n",
        "print(arr)\n",
        "print(type(arr))\n",
        "print(arr.dtype)\n",
        "print(arr.shape)\n",
        "print(arr.ndim)\n",
        "print(arr.size)"
      ],
      "metadata": {
        "colab": {
          "base_uri": "https://localhost:8080/"
        },
        "id": "N01PqFkBBVSY",
        "outputId": "762a16e8-897c-41a8-ba76-13f782879a58"
      },
      "execution_count": 67,
      "outputs": [
        {
          "output_type": "stream",
          "name": "stdout",
          "text": [
            "[0.  0.8 1.6 2.4 3.2 4. ]\n",
            "<class 'numpy.ndarray'>\n",
            "float64\n",
            "(6,)\n",
            "1\n",
            "6\n"
          ]
        }
      ]
    },
    {
      "cell_type": "code",
      "source": [
        "\n",
        "# np.logspace(start , end(included) , koita point pick kra lgbe, base or base na dewa thkle default base=10)\n",
        "\n",
        "arr = np.logspace(0 , 4 ,6, base =2)\n",
        "\n",
        "print(arr)\n"
      ],
      "metadata": {
        "colab": {
          "base_uri": "https://localhost:8080/"
        },
        "id": "AHRjw8tzCbnQ",
        "outputId": "62de6ec6-3ed6-4fa2-8b2f-7396377790c1"
      },
      "execution_count": 68,
      "outputs": [
        {
          "output_type": "stream",
          "name": "stdout",
          "text": [
            "[ 1.          1.74110113  3.03143313  5.27803164  9.18958684 16.        ]\n"
          ]
        }
      ]
    },
    {
      "cell_type": "code",
      "source": [],
      "metadata": {
        "id": "kPhHyuu3DcK_"
      },
      "execution_count": 68,
      "outputs": []
    },
    {
      "cell_type": "markdown",
      "source": [
        "# creating matrix for Linear algebra"
      ],
      "metadata": {
        "id": "SL_dFYmZD3pU"
      }
    },
    {
      "cell_type": "code",
      "source": [
        "\n",
        "diagonal_matrix = np.diag([1,2,3,4])\n",
        "\n",
        "print(diagonal_matrix)\n",
        "print(diagonal_matrix.shape)"
      ],
      "metadata": {
        "colab": {
          "base_uri": "https://localhost:8080/"
        },
        "id": "aGhjVllQD4eh",
        "outputId": "cca4ec7c-0883-40a5-85d1-2dfe7a6d8116"
      },
      "execution_count": 69,
      "outputs": [
        {
          "output_type": "stream",
          "name": "stdout",
          "text": [
            "[[1 0 0 0]\n",
            " [0 2 0 0]\n",
            " [0 0 3 0]\n",
            " [0 0 0 4]]\n",
            "(4, 4)\n"
          ]
        }
      ]
    },
    {
      "cell_type": "code",
      "source": [
        "# identity matrix\n",
        "\n",
        "identity_mat = np.eye(4)\n",
        "# print(identity_mat)\n",
        "# print(identity_mat.shape)\n",
        "\n",
        "\n",
        "# np.eye(row , column,k)\n",
        "\n",
        "mat = np.eye(3,4)\n",
        "print(mat)\n",
        "print()\n",
        "\n",
        "mat = np.eye(3,4,1) # 1 gula ek ghor upore shift hye jbe\n",
        "print(mat)\n",
        "print()\n",
        "\n",
        "mat = np.eye(3,4,-1) # 1 gula ek ghor niche shift hye jbe\n",
        "print(mat)\n"
      ],
      "metadata": {
        "colab": {
          "base_uri": "https://localhost:8080/"
        },
        "id": "6s54AN-YEDpc",
        "outputId": "09b9d83f-b130-46b9-9458-79a9e51f5a44"
      },
      "execution_count": 70,
      "outputs": [
        {
          "output_type": "stream",
          "name": "stdout",
          "text": [
            "[[1. 0. 0. 0.]\n",
            " [0. 1. 0. 0.]\n",
            " [0. 0. 1. 0.]]\n",
            "\n",
            "[[0. 1. 0. 0.]\n",
            " [0. 0. 1. 0.]\n",
            " [0. 0. 0. 1.]]\n",
            "\n",
            "[[0. 0. 0. 0.]\n",
            " [1. 0. 0. 0.]\n",
            " [0. 1. 0. 0.]]\n"
          ]
        }
      ]
    },
    {
      "cell_type": "code",
      "source": [],
      "metadata": {
        "id": "lgPUCy6WEnoP"
      },
      "execution_count": 70,
      "outputs": []
    },
    {
      "cell_type": "markdown",
      "source": [
        "# indexing and slicing"
      ],
      "metadata": {
        "id": "kZojyDaxFbNe"
      }
    },
    {
      "cell_type": "code",
      "source": [
        "#indexing\n",
        "\n",
        "print(arr1)\n",
        "print(arr2)\n",
        "\n",
        "# arr1[2] = 100\n",
        "\n",
        "# print(arr1)\n",
        "arr2[0][2]= 100\n",
        "\n",
        "print(arr2)"
      ],
      "metadata": {
        "colab": {
          "base_uri": "https://localhost:8080/"
        },
        "id": "h_IA-QI4FevY",
        "outputId": "6c3d76a5-bed4-4dc6-bd2f-9080a9e68687"
      },
      "execution_count": 71,
      "outputs": [
        {
          "output_type": "stream",
          "name": "stdout",
          "text": [
            "[1 2 3 4 5]\n",
            "[[1 2 3]\n",
            " [4 5 6]]\n",
            "[[  1   2 100]\n",
            " [  4   5   6]]\n"
          ]
        }
      ]
    },
    {
      "cell_type": "code",
      "source": [
        "#slicing\n",
        "#1d = arr[start:end:step]\n",
        "\n",
        "arr1_mod = arr1[1:4].copy()\n",
        "arr1[1] = 2\n",
        "\n",
        "\n",
        "arr1_mod[2] = 200\n",
        "print(arr1_mod)\n",
        "print(arr1)"
      ],
      "metadata": {
        "colab": {
          "base_uri": "https://localhost:8080/"
        },
        "id": "TkSppszUFhfn",
        "outputId": "a0e51714-f9b7-4a22-f8dc-1f2ed7041005"
      },
      "execution_count": 72,
      "outputs": [
        {
          "output_type": "stream",
          "name": "stdout",
          "text": [
            "[  2   3 200]\n",
            "[1 2 3 4 5]\n"
          ]
        }
      ]
    },
    {
      "cell_type": "code",
      "source": [
        "\n",
        "#2d slicing\n",
        "# arr[ row_start : row_end : step , column_start : column_end : step ]\n",
        "\n",
        "# print(arr2)\n",
        "\n",
        "#getting a row\n",
        "\n",
        "row_0 = arr2[0:1 ,]\n",
        "\n",
        "row_1= arr2[1: , ]\n",
        "\n",
        "# print(row_0)\n",
        "# print(row_1)\n",
        "\n",
        "\n",
        "#getting a column\n",
        "\n",
        "col_0 = arr2[:: ,0:1]\n",
        "col_1 = arr2[::,1:2]\n",
        "\n",
        "print(col_0)\n",
        "print(col_1)\n",
        "\n",
        "#getting a portion\n",
        "\n",
        "\n",
        "portion = arr2[:: , 1:3]\n",
        "\n",
        "print(portion)\n",
        "print()\n",
        "\n",
        "ar = np.arange(1,10,1).reshape(3,3)\n",
        "print(ar)\n",
        "portion = ar[0:3:2,0:3:2]\n",
        "print(portion)"
      ],
      "metadata": {
        "colab": {
          "base_uri": "https://localhost:8080/"
        },
        "id": "xpmXpGtxGleq",
        "outputId": "a0763097-6f8f-4e6f-ce86-a18e1208a273"
      },
      "execution_count": 73,
      "outputs": [
        {
          "output_type": "stream",
          "name": "stdout",
          "text": [
            "[[1]\n",
            " [4]]\n",
            "[[2]\n",
            " [5]]\n",
            "[[  2 100]\n",
            " [  5   6]]\n",
            "\n",
            "[[1 2 3]\n",
            " [4 5 6]\n",
            " [7 8 9]]\n",
            "[[1 3]\n",
            " [7 9]]\n"
          ]
        }
      ]
    },
    {
      "cell_type": "code",
      "source": [],
      "metadata": {
        "id": "mD4oYEBvGrOs"
      },
      "execution_count": 73,
      "outputs": []
    },
    {
      "cell_type": "markdown",
      "source": [
        "# Advanced Indexing"
      ],
      "metadata": {
        "id": "J97rq-kRS01V"
      }
    },
    {
      "cell_type": "code",
      "source": [
        "lst = np.array([ 10 , 20 ,30 ,40 ])\n",
        "\n",
        "values = lst[[0,3,1]]\n",
        "\n",
        "print(values)"
      ],
      "metadata": {
        "colab": {
          "base_uri": "https://localhost:8080/"
        },
        "id": "pTgl8S4aS5C1",
        "outputId": "908384cc-c11a-4b25-cda5-68dfa7852979"
      },
      "execution_count": 75,
      "outputs": [
        {
          "output_type": "stream",
          "name": "stdout",
          "text": [
            "[10 40 20]\n"
          ]
        }
      ]
    },
    {
      "cell_type": "code",
      "source": [
        "print(arr2)"
      ],
      "metadata": {
        "colab": {
          "base_uri": "https://localhost:8080/"
        },
        "id": "Qa5Yx0_iWduA",
        "outputId": "8cf832f1-0953-4d29-a44c-e18c57724c06"
      },
      "execution_count": 91,
      "outputs": [
        {
          "output_type": "stream",
          "name": "stdout",
          "text": [
            "[[1 2 0]\n",
            " [0 0 0]]\n"
          ]
        }
      ]
    },
    {
      "cell_type": "code",
      "source": [
        "\n",
        "print(arr2)\n",
        "print(arr2[[0,1] , [1,2]])\n",
        "print()\n",
        "\n",
        "\n",
        "# boolean kono kichu diye\n",
        "print(arr2[arr>1])\n",
        "print()\n",
        "\n",
        "arr2[arr2>2] = 0\n",
        "print(arr2)"
      ],
      "metadata": {
        "colab": {
          "base_uri": "https://localhost:8080/"
        },
        "id": "VMbYuNBbWjWq",
        "outputId": "155c863b-4b11-4748-da6c-86db7e496f15"
      },
      "execution_count": 89,
      "outputs": [
        {
          "output_type": "stream",
          "name": "stdout",
          "text": [
            "[[1 2 0]\n",
            " [0 0 0]]\n",
            "[2 0]\n",
            "\n",
            "[1 2 0 0 0 0]\n",
            "\n",
            "[[1 2 0]\n",
            " [0 0 0]]\n"
          ]
        }
      ]
    },
    {
      "cell_type": "code",
      "source": [
        "print(arr2)"
      ],
      "metadata": {
        "colab": {
          "base_uri": "https://localhost:8080/"
        },
        "id": "l3eLc_TbWned",
        "outputId": "b7ab1ddd-51f4-44cc-bfed-3240fdcd8198"
      },
      "execution_count": 84,
      "outputs": [
        {
          "output_type": "stream",
          "name": "stdout",
          "text": [
            "[[1 2 0]\n",
            " [0 0 0]]\n"
          ]
        }
      ]
    },
    {
      "cell_type": "code",
      "source": [
        "arr  = np.array([[10,20,30] , [100,200,300] ] )\n",
        "\n",
        "# iteration\n",
        "print(arr3)\n",
        "for i in np.nditer(arr):   # nested loop charai sob value dekhte parchi ei func use kre\n",
        "    print(i)"
      ],
      "metadata": {
        "id": "E_n48xxgXd6Y",
        "outputId": "2bcbe449-b6cb-4977-f5b3-12a8f001c605",
        "colab": {
          "base_uri": "https://localhost:8080/"
        }
      },
      "execution_count": 87,
      "outputs": [
        {
          "output_type": "stream",
          "name": "stdout",
          "text": [
            "[[[1 2 3]\n",
            "  [4 5 6]]\n",
            "\n",
            " [[1 2 3]\n",
            "  [4 5 6]]\n",
            "\n",
            " [[1 2 3]\n",
            "  [4 5 6]]]\n",
            "10\n",
            "20\n",
            "30\n",
            "100\n",
            "200\n",
            "300\n"
          ]
        }
      ]
    },
    {
      "cell_type": "code",
      "source": [],
      "metadata": {
        "id": "OjqZ0WY1X1Qt"
      },
      "execution_count": null,
      "outputs": []
    }
  ]
}