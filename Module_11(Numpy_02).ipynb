{
  "nbformat": 4,
  "nbformat_minor": 0,
  "metadata": {
    "colab": {
      "provenance": [],
      "authorship_tag": "ABX9TyMbH6pUGl/KC3XUwcigW1Pp",
      "include_colab_link": true
    },
    "kernelspec": {
      "name": "python3",
      "display_name": "Python 3"
    },
    "language_info": {
      "name": "python"
    }
  },
  "cells": [
    {
      "cell_type": "markdown",
      "metadata": {
        "id": "view-in-github",
        "colab_type": "text"
      },
      "source": [
        "<a href=\"https://colab.research.google.com/github/turon41/Python-for-ML/blob/main/Module_11(Numpy_02).ipynb\" target=\"_parent\"><img src=\"https://colab.research.google.com/assets/colab-badge.svg\" alt=\"Open In Colab\"/></a>"
      ]
    },
    {
      "cell_type": "code",
      "execution_count": 1,
      "metadata": {
        "id": "Cpjm2RHpWPf3"
      },
      "outputs": [],
      "source": [
        "import numpy as np\n",
        "\n",
        "arr = np.random.randint(1 ,100 , size =(10,5)) # sample - 10 , feature - 5"
      ]
    },
    {
      "cell_type": "code",
      "source": [
        "arr.shape"
      ],
      "metadata": {
        "colab": {
          "base_uri": "https://localhost:8080/"
        },
        "id": "N76slCsVWeY8",
        "outputId": "144d9e07-5f5e-4e0a-bee9-4ca1de05a32a"
      },
      "execution_count": 2,
      "outputs": [
        {
          "output_type": "execute_result",
          "data": {
            "text/plain": [
              "(10, 5)"
            ]
          },
          "metadata": {},
          "execution_count": 2
        }
      ]
    },
    {
      "cell_type": "code",
      "source": [
        "b = arr.reshape(5,10)\n",
        "\n",
        "b.shape\n",
        "b.ndim\n",
        "b"
      ],
      "metadata": {
        "colab": {
          "base_uri": "https://localhost:8080/"
        },
        "id": "yGWmoMTmWg0F",
        "outputId": "940d1b02-3cf2-44d9-fa5b-9769b444f9fe"
      },
      "execution_count": 3,
      "outputs": [
        {
          "output_type": "execute_result",
          "data": {
            "text/plain": [
              "array([[83, 78, 86, 15, 63, 95, 37, 28, 63, 80],\n",
              "       [50, 55, 65, 62, 15, 86, 69, 57, 25, 25],\n",
              "       [47, 90, 37, 43, 76, 22, 51, 67, 71, 58],\n",
              "       [60, 23,  3, 42, 31, 43, 36, 22, 20, 50],\n",
              "       [89, 54,  3, 13, 42, 27, 44, 48, 94, 55]])"
            ]
          },
          "metadata": {},
          "execution_count": 3
        }
      ]
    },
    {
      "cell_type": "code",
      "source": [
        "flatten = b.flatten()\n",
        "print(flatten.ndim)\n",
        "print(flatten)      # row wise flattening\n",
        "print()\n",
        "\n",
        "column_wise_flattening = np.ravel(b,order= 'C')  # row wise flattening\n",
        "print(column_wise_flattening)\n",
        "print()\n",
        "\n",
        "column_wise_flattening = np.ravel(b,order= 'F')  # column wise flattening\n",
        "print(column_wise_flattening)"
      ],
      "metadata": {
        "colab": {
          "base_uri": "https://localhost:8080/"
        },
        "id": "IQjDHLZuWkXM",
        "outputId": "36fcacd5-82c4-4873-b9cf-acc375b0db70"
      },
      "execution_count": 4,
      "outputs": [
        {
          "output_type": "stream",
          "name": "stdout",
          "text": [
            "1\n",
            "[83 78 86 15 63 95 37 28 63 80 50 55 65 62 15 86 69 57 25 25 47 90 37 43\n",
            " 76 22 51 67 71 58 60 23  3 42 31 43 36 22 20 50 89 54  3 13 42 27 44 48\n",
            " 94 55]\n",
            "\n",
            "[83 78 86 15 63 95 37 28 63 80 50 55 65 62 15 86 69 57 25 25 47 90 37 43\n",
            " 76 22 51 67 71 58 60 23  3 42 31 43 36 22 20 50 89 54  3 13 42 27 44 48\n",
            " 94 55]\n",
            "\n",
            "[83 50 47 60 89 78 55 90 23 54 86 65 37  3  3 15 62 43 42 13 63 15 76 31\n",
            " 42 95 86 22 43 27 37 69 51 36 44 28 57 67 22 48 63 25 71 20 94 80 25 58\n",
            " 50 55]\n"
          ]
        }
      ]
    },
    {
      "cell_type": "code",
      "source": [
        "a = np.random.randint(1 ,10 , size =(2,3))\n",
        "b = np.random.randint(20 ,30 , size =(2,3))\n",
        "print(a)\n",
        "print()\n",
        "print(b)"
      ],
      "metadata": {
        "colab": {
          "base_uri": "https://localhost:8080/"
        },
        "id": "uM2AhGA8YvMT",
        "outputId": "15570a72-eb78-4af8-994f-8dba80850992"
      },
      "execution_count": 5,
      "outputs": [
        {
          "output_type": "stream",
          "name": "stdout",
          "text": [
            "[[9 4 3]\n",
            " [1 4 8]]\n",
            "\n",
            "[[24 25 21]\n",
            " [23 29 20]]\n"
          ]
        }
      ]
    },
    {
      "cell_type": "markdown",
      "source": [
        "# Concatenate"
      ],
      "metadata": {
        "id": "_3xUwNITZgHT"
      }
    },
    {
      "cell_type": "code",
      "source": [
        "con_row = np.concatenate((a,b),axis=0) # row wise\n",
        "\n",
        "print(con_row)\n",
        "\n",
        "print()\n",
        "\n",
        "con_col = np.concatenate((a,b), axis = 1) # column wise\n",
        "\n",
        "print(con_col)"
      ],
      "metadata": {
        "colab": {
          "base_uri": "https://localhost:8080/"
        },
        "id": "Cw-dURDHZijJ",
        "outputId": "68c0267d-eac9-454e-94a3-d781ff09504c"
      },
      "execution_count": 6,
      "outputs": [
        {
          "output_type": "stream",
          "name": "stdout",
          "text": [
            "[[ 9  4  3]\n",
            " [ 1  4  8]\n",
            " [24 25 21]\n",
            " [23 29 20]]\n",
            "\n",
            "[[ 9  4  3 24 25 21]\n",
            " [ 1  4  8 23 29 20]]\n"
          ]
        }
      ]
    },
    {
      "cell_type": "code",
      "source": [
        "# error\n",
        "\n",
        "# row wise concetanate korar shomoi column same thakbe\n",
        "# col wise concat korar shomoi row ta same thakte hobe\n",
        "\n",
        "x = np.random.randint(1 ,10 , size =(2,3))\n",
        "y = np.random.randint(1 ,10 , size =(1,3))\n",
        "\n",
        "r = np.concatenate((x,y),axis =0 )  # row wise\n",
        "print(r)\n",
        "s = np.concatenate((x,y),axis =1 )  # column wise\n",
        "print(r)"
      ],
      "metadata": {
        "colab": {
          "base_uri": "https://localhost:8080/",
          "height": 263
        },
        "id": "zCq0lKMFaSPT",
        "outputId": "e8d4d720-f103-48d3-f433-0678b02a8fb4"
      },
      "execution_count": 7,
      "outputs": [
        {
          "output_type": "stream",
          "name": "stdout",
          "text": [
            "[[6 6 3]\n",
            " [1 7 2]\n",
            " [4 5 2]]\n"
          ]
        },
        {
          "output_type": "error",
          "ename": "ValueError",
          "evalue": "all the input array dimensions except for the concatenation axis must match exactly, but along dimension 0, the array at index 0 has size 2 and the array at index 1 has size 1",
          "traceback": [
            "\u001b[0;31m---------------------------------------------------------------------------\u001b[0m",
            "\u001b[0;31mValueError\u001b[0m                                Traceback (most recent call last)",
            "\u001b[0;32m/tmp/ipython-input-248699233.py\u001b[0m in \u001b[0;36m<cell line: 0>\u001b[0;34m()\u001b[0m\n\u001b[1;32m      9\u001b[0m \u001b[0mr\u001b[0m \u001b[0;34m=\u001b[0m \u001b[0mnp\u001b[0m\u001b[0;34m.\u001b[0m\u001b[0mconcatenate\u001b[0m\u001b[0;34m(\u001b[0m\u001b[0;34m(\u001b[0m\u001b[0mx\u001b[0m\u001b[0;34m,\u001b[0m\u001b[0my\u001b[0m\u001b[0;34m)\u001b[0m\u001b[0;34m,\u001b[0m\u001b[0maxis\u001b[0m \u001b[0;34m=\u001b[0m\u001b[0;36m0\u001b[0m \u001b[0;34m)\u001b[0m  \u001b[0;31m# row wise\u001b[0m\u001b[0;34m\u001b[0m\u001b[0;34m\u001b[0m\u001b[0m\n\u001b[1;32m     10\u001b[0m \u001b[0mprint\u001b[0m\u001b[0;34m(\u001b[0m\u001b[0mr\u001b[0m\u001b[0;34m)\u001b[0m\u001b[0;34m\u001b[0m\u001b[0;34m\u001b[0m\u001b[0m\n\u001b[0;32m---> 11\u001b[0;31m \u001b[0ms\u001b[0m \u001b[0;34m=\u001b[0m \u001b[0mnp\u001b[0m\u001b[0;34m.\u001b[0m\u001b[0mconcatenate\u001b[0m\u001b[0;34m(\u001b[0m\u001b[0;34m(\u001b[0m\u001b[0mx\u001b[0m\u001b[0;34m,\u001b[0m\u001b[0my\u001b[0m\u001b[0;34m)\u001b[0m\u001b[0;34m,\u001b[0m\u001b[0maxis\u001b[0m \u001b[0;34m=\u001b[0m\u001b[0;36m1\u001b[0m \u001b[0;34m)\u001b[0m  \u001b[0;31m# column wise\u001b[0m\u001b[0;34m\u001b[0m\u001b[0;34m\u001b[0m\u001b[0m\n\u001b[0m\u001b[1;32m     12\u001b[0m \u001b[0mprint\u001b[0m\u001b[0;34m(\u001b[0m\u001b[0mr\u001b[0m\u001b[0;34m)\u001b[0m\u001b[0;34m\u001b[0m\u001b[0;34m\u001b[0m\u001b[0m\n",
            "\u001b[0;31mValueError\u001b[0m: all the input array dimensions except for the concatenation axis must match exactly, but along dimension 0, the array at index 0 has size 2 and the array at index 1 has size 1"
          ]
        }
      ]
    },
    {
      "cell_type": "code",
      "source": [
        "# transpose\n",
        "\n",
        "mat = np.array([[10,20,30],\n",
        "                [30,40,50]\n",
        "               ])\n",
        "\n",
        "\n",
        "transpose = mat.T\n",
        "\n",
        "print(transpose)"
      ],
      "metadata": {
        "id": "t2qU5zC2cCIL"
      },
      "execution_count": null,
      "outputs": []
    },
    {
      "cell_type": "code",
      "source": [
        "# array split\n",
        "\n",
        "a = np.random.randint(1 ,10 , size =(10,))\n",
        "print(a)\n",
        "splitted_array = np.array_split(a,3)\n",
        "\n",
        "print(splitted_array)\n",
        "\n",
        "# split -> equal division\n",
        "splitted_array = np.split(a,3)"
      ],
      "metadata": {
        "id": "Cwk6oTkLfojO"
      },
      "execution_count": null,
      "outputs": []
    },
    {
      "cell_type": "code",
      "source": [],
      "metadata": {
        "id": "JZHKDReTgEmd"
      },
      "execution_count": null,
      "outputs": []
    },
    {
      "cell_type": "markdown",
      "source": [
        "# arithmetic operator and mathematical functions"
      ],
      "metadata": {
        "id": "a1ZgQtZwg2Ae"
      }
    },
    {
      "cell_type": "code",
      "source": [
        "# faster for vectorization\n",
        "\n",
        "x = np.array([ 10 , 8 , 30 , 100 ])\n",
        "y = np.array([ 2 , 3 ,4  ,5 ])\n",
        "\n",
        "add = np.add(x,y) # evabeu lekha jay : x+y\n",
        "print(add)\n",
        "\n",
        "sub = np.subtract(x,y)  # evabeu lekha jay : x-y\n",
        "print(sub)\n",
        "\n",
        "mul = np.multiply(x,y)  # evabeu lekha jay : x*y\n",
        "print(mul)\n",
        "\n",
        "div = np.divide(x,y)   # evabeu lekha jay : x/y\n",
        "print(div)\n",
        "\n",
        "remainder = np.remainder(x,y)  # evabeu lekha jay : x%y\n",
        "print(remainder)\n",
        "\n",
        "div_mod = np.divmod(x,y)\n",
        "print(div_mod)\n"
      ],
      "metadata": {
        "id": "AIdWy0JEg2rk"
      },
      "execution_count": null,
      "outputs": []
    },
    {
      "cell_type": "code",
      "source": [
        "# mathematical function\n",
        "\n",
        "# trigonometry\n",
        "\n",
        "# sin , cos , tan takes values in radian\n",
        "\n",
        "sin_val = np.sin(x)\n",
        "print(sin_val)\n",
        "\n",
        "cos_val = np.cos(x)\n",
        "print(cos_val)\n",
        "\n",
        "deg_con = np.rad2deg(x)\n",
        "print(deg_con)\n",
        "\n",
        "# deg2rad"
      ],
      "metadata": {
        "id": "DxX22hI-hTkR"
      },
      "execution_count": null,
      "outputs": []
    },
    {
      "cell_type": "code",
      "source": [
        "#log\n",
        "\n",
        "x = np.array([ 10 , 8 , 16 , 100 ])\n",
        "base_10_log_val = np.log10(x)\n",
        "print(base_10_log_val)\n",
        "\n",
        "\n",
        "two_diye_bhag = np.log2(x)\n",
        "print(two_diye_bhag)\n",
        "\n",
        "sqrt= np.sqrt(x)\n",
        "print(sqrt)"
      ],
      "metadata": {
        "id": "tBQh9o7tikNS"
      },
      "execution_count": null,
      "outputs": []
    },
    {
      "cell_type": "code",
      "source": [
        "# different\n",
        "s = np.sum(x)\n",
        "print(s)\n",
        "\n",
        "#prefix sum\n",
        "cumul =np.cumsum(x)  # cumulative sum\n",
        "print(cumul)"
      ],
      "metadata": {
        "id": "RbXkjS3Hj1oC"
      },
      "execution_count": null,
      "outputs": []
    },
    {
      "cell_type": "code",
      "source": [
        "#broadcasting\n",
        "\n",
        "x = np.array([ 10 , 8 , 16 , 100 ])\n",
        "\n",
        "result = x + 2\n",
        "\n",
        "#rulings = columns er size and vector er size same hote hobe\n",
        "\n",
        "matrix = np.array([[10,20,30],\n",
        "                [30,40,50]\n",
        "               ])\n",
        "\n",
        "\n",
        "result = matrix + 2\n",
        "\n",
        "vector = np.array([1,2,3])\n",
        "\n",
        "result = matrix +vector\n",
        "print(result)\n",
        "print()\n",
        "\n",
        "vector2 = np.array([1,2,3,4])\n",
        "result = matrix +vector2\n",
        "print(result)              # error: bcz vector size and column size is not equal"
      ],
      "metadata": {
        "id": "SSHGxsXjj4Z7"
      },
      "execution_count": null,
      "outputs": []
    },
    {
      "cell_type": "code",
      "source": [
        "# comparison - >,< , >= ,<= , == , !=\n",
        "\n",
        "x = np.array([ 10 , 8 , 16 , 100 ])\n",
        "y = np.array([ 2 , 3 ,4  ,5 ])\n",
        "\n",
        "greater_than = x>y\n",
        "\n",
        "print(greater_than)\n",
        "\n",
        "equal = x==y\n",
        "\n",
        "print(equal)\n",
        "\n",
        "# all () -> shob true kina\n",
        "# any() -> jekono ekta true ase kina\n",
        "\n",
        "print(np.all(greater_than))\n",
        "\n",
        "print(np.any(equal))"
      ],
      "metadata": {
        "id": "1w9ThleOl5Vw"
      },
      "execution_count": null,
      "outputs": []
    },
    {
      "cell_type": "code",
      "source": [
        "#inplace\n",
        "x = np.array([ 10 , 8 , 16 , 100 ])\n",
        "\n",
        "z = x.copy()\n",
        "\n",
        "print(z)\n",
        "\n",
        "z.sort()\n",
        "\n",
        "print(z)   # main array tar copy thke na ei type sorting e"
      ],
      "metadata": {
        "id": "Ac8vrH9Um430"
      },
      "execution_count": null,
      "outputs": []
    },
    {
      "cell_type": "code",
      "source": [
        "# copy sorting\n",
        "print(x)\n",
        "sort_arr = np.sort(x)\n",
        "\n",
        "print(sort_arr)     # main array ta copy kre rakha hy,then sort kra hy...main array ta change hy na\n",
        "\n",
        "print(x)"
      ],
      "metadata": {
        "id": "pFdjn47Kn9pP"
      },
      "execution_count": null,
      "outputs": []
    },
    {
      "cell_type": "code",
      "source": [
        "# 2d array sorting\n",
        "mat = np.array([[10,3,5],[8,4,9]])\n",
        "print(mat)\n",
        "print()\n",
        "\n",
        "# horizon/row wise sorting:  axis = 1\n",
        "\n",
        "hor_sort = np.sort(mat,axis=1)\n",
        "print(hor_sort)\n",
        "print()\n",
        "\n",
        "# Vertical/column wise sorting:  axis = 0\n",
        "\n",
        "vert_sort = np.sort(mat,axis=0)\n",
        "print(vert_sort)"
      ],
      "metadata": {
        "id": "80ygU7zgoH-7"
      },
      "execution_count": null,
      "outputs": []
    },
    {
      "cell_type": "code",
      "source": [],
      "metadata": {
        "id": "kuEm0FoYoXd6"
      },
      "execution_count": null,
      "outputs": []
    },
    {
      "cell_type": "markdown",
      "source": [
        "# searching"
      ],
      "metadata": {
        "id": "qhrWqX8KqR1L"
      }
    },
    {
      "cell_type": "code",
      "source": [
        "print(x)"
      ],
      "metadata": {
        "id": "qwr6PoqsqTbk"
      },
      "execution_count": null,
      "outputs": []
    },
    {
      "cell_type": "code",
      "source": [
        "# np.where( condition , x , y ) if true x , otherwise replace with y ...it will return an array\n",
        "# np.where(condition)  it will return index\n",
        "\n",
        "index = np.where(x==8) # returns index\n",
        "print(index)\n",
        "\n",
        "arr = np.where(x>8,x,0) # returns array\n",
        "print(arr)"
      ],
      "metadata": {
        "id": "KeZT6TP-qXQY"
      },
      "execution_count": null,
      "outputs": []
    },
    {
      "cell_type": "code",
      "source": [
        "print(mat)"
      ],
      "metadata": {
        "id": "doJF_7hlqaTu"
      },
      "execution_count": null,
      "outputs": []
    },
    {
      "cell_type": "code",
      "source": [
        "index = np.where(mat>8) # returns index\n",
        "print(index)\n",
        "\n",
        "arr = np.where(mat>8,mat,0) # returns array\n",
        "print(arr)"
      ],
      "metadata": {
        "id": "frkte6ciqslY"
      },
      "execution_count": null,
      "outputs": []
    },
    {
      "cell_type": "code",
      "source": [
        "x = np.array([ 10,100 , 8 , 16 , 100 ])\n",
        "\n",
        "maximum_value_indx = np.argmax(x)\n",
        "minimum_value_indx = np.argmin(x)\n",
        "max_val = np.max(x)\n",
        "min_val = np.min(x)\n",
        "\n",
        "print(maximum_value_indx)\n",
        "print(minimum_value_indx)\n",
        "print(max_val)\n",
        "print(min_val)"
      ],
      "metadata": {
        "id": "W_be48UNqvpu"
      },
      "execution_count": null,
      "outputs": []
    },
    {
      "cell_type": "code",
      "source": [],
      "metadata": {
        "id": "zjmWTGCqqy-A"
      },
      "execution_count": null,
      "outputs": []
    },
    {
      "cell_type": "markdown",
      "source": [
        "# counting in ndarray"
      ],
      "metadata": {
        "id": "QgC9R3Vgi6JK"
      }
    },
    {
      "cell_type": "code",
      "source": [
        "a = np.random.randint(1 ,100 , size =(100,))\n",
        "print(a)"
      ],
      "metadata": {
        "id": "UQISnDpPi60O"
      },
      "execution_count": null,
      "outputs": []
    },
    {
      "cell_type": "code",
      "source": [
        "value_great_than_60 = np.count_nonzero(a>60)\n",
        "print(value_great_than_60)"
      ],
      "metadata": {
        "id": "dIZVaotTi-T8"
      },
      "execution_count": null,
      "outputs": []
    },
    {
      "cell_type": "code",
      "source": [
        "unique_value,count  = np.unique(a,return_counts=True)\n",
        "print(unique_value)\n",
        "print(count)"
      ],
      "metadata": {
        "id": "3nDMZ5APjlZA"
      },
      "execution_count": null,
      "outputs": []
    },
    {
      "cell_type": "code",
      "source": [],
      "metadata": {
        "id": "zCBA_Wj1lMQR"
      },
      "execution_count": null,
      "outputs": []
    },
    {
      "cell_type": "markdown",
      "source": [
        "# statistical function"
      ],
      "metadata": {
        "id": "e9hgIES7lO6z"
      }
    },
    {
      "cell_type": "code",
      "source": [
        "import os\n",
        "print(os.getcwd())\n"
      ],
      "metadata": {
        "id": "1s1589rkmnbz"
      },
      "execution_count": null,
      "outputs": []
    },
    {
      "cell_type": "code",
      "source": [
        "from google.colab import files\n",
        "uploaded = files.upload()\n"
      ],
      "metadata": {
        "id": "edwJcM0En7dU"
      },
      "execution_count": null,
      "outputs": []
    },
    {
      "cell_type": "code",
      "source": [
        "data = np.genfromtxt('student_marks.csv' ,delimiter=',',skip_header=1)\n",
        "\n",
        "print(data)"
      ],
      "metadata": {
        "id": "GfVi2bFQoE2h"
      },
      "execution_count": null,
      "outputs": []
    },
    {
      "cell_type": "code",
      "source": [
        "from google.colab import files\n",
        "uploaded = files.upload()"
      ],
      "metadata": {
        "colab": {
          "base_uri": "https://localhost:8080/",
          "height": 73
        },
        "id": "3j53XUY0oSUf",
        "outputId": "30e09825-3d74-42d7-f5c5-6e7abceb2bf5"
      },
      "execution_count": 9,
      "outputs": [
        {
          "output_type": "display_data",
          "data": {
            "text/plain": [
              "<IPython.core.display.HTML object>"
            ],
            "text/html": [
              "\n",
              "     <input type=\"file\" id=\"files-5149e230-d231-4f45-bc55-466165257ae4\" name=\"files[]\" multiple disabled\n",
              "        style=\"border:none\" />\n",
              "     <output id=\"result-5149e230-d231-4f45-bc55-466165257ae4\">\n",
              "      Upload widget is only available when the cell has been executed in the\n",
              "      current browser session. Please rerun this cell to enable.\n",
              "      </output>\n",
              "      <script>// Copyright 2017 Google LLC\n",
              "//\n",
              "// Licensed under the Apache License, Version 2.0 (the \"License\");\n",
              "// you may not use this file except in compliance with the License.\n",
              "// You may obtain a copy of the License at\n",
              "//\n",
              "//      http://www.apache.org/licenses/LICENSE-2.0\n",
              "//\n",
              "// Unless required by applicable law or agreed to in writing, software\n",
              "// distributed under the License is distributed on an \"AS IS\" BASIS,\n",
              "// WITHOUT WARRANTIES OR CONDITIONS OF ANY KIND, either express or implied.\n",
              "// See the License for the specific language governing permissions and\n",
              "// limitations under the License.\n",
              "\n",
              "/**\n",
              " * @fileoverview Helpers for google.colab Python module.\n",
              " */\n",
              "(function(scope) {\n",
              "function span(text, styleAttributes = {}) {\n",
              "  const element = document.createElement('span');\n",
              "  element.textContent = text;\n",
              "  for (const key of Object.keys(styleAttributes)) {\n",
              "    element.style[key] = styleAttributes[key];\n",
              "  }\n",
              "  return element;\n",
              "}\n",
              "\n",
              "// Max number of bytes which will be uploaded at a time.\n",
              "const MAX_PAYLOAD_SIZE = 100 * 1024;\n",
              "\n",
              "function _uploadFiles(inputId, outputId) {\n",
              "  const steps = uploadFilesStep(inputId, outputId);\n",
              "  const outputElement = document.getElementById(outputId);\n",
              "  // Cache steps on the outputElement to make it available for the next call\n",
              "  // to uploadFilesContinue from Python.\n",
              "  outputElement.steps = steps;\n",
              "\n",
              "  return _uploadFilesContinue(outputId);\n",
              "}\n",
              "\n",
              "// This is roughly an async generator (not supported in the browser yet),\n",
              "// where there are multiple asynchronous steps and the Python side is going\n",
              "// to poll for completion of each step.\n",
              "// This uses a Promise to block the python side on completion of each step,\n",
              "// then passes the result of the previous step as the input to the next step.\n",
              "function _uploadFilesContinue(outputId) {\n",
              "  const outputElement = document.getElementById(outputId);\n",
              "  const steps = outputElement.steps;\n",
              "\n",
              "  const next = steps.next(outputElement.lastPromiseValue);\n",
              "  return Promise.resolve(next.value.promise).then((value) => {\n",
              "    // Cache the last promise value to make it available to the next\n",
              "    // step of the generator.\n",
              "    outputElement.lastPromiseValue = value;\n",
              "    return next.value.response;\n",
              "  });\n",
              "}\n",
              "\n",
              "/**\n",
              " * Generator function which is called between each async step of the upload\n",
              " * process.\n",
              " * @param {string} inputId Element ID of the input file picker element.\n",
              " * @param {string} outputId Element ID of the output display.\n",
              " * @return {!Iterable<!Object>} Iterable of next steps.\n",
              " */\n",
              "function* uploadFilesStep(inputId, outputId) {\n",
              "  const inputElement = document.getElementById(inputId);\n",
              "  inputElement.disabled = false;\n",
              "\n",
              "  const outputElement = document.getElementById(outputId);\n",
              "  outputElement.innerHTML = '';\n",
              "\n",
              "  const pickedPromise = new Promise((resolve) => {\n",
              "    inputElement.addEventListener('change', (e) => {\n",
              "      resolve(e.target.files);\n",
              "    });\n",
              "  });\n",
              "\n",
              "  const cancel = document.createElement('button');\n",
              "  inputElement.parentElement.appendChild(cancel);\n",
              "  cancel.textContent = 'Cancel upload';\n",
              "  const cancelPromise = new Promise((resolve) => {\n",
              "    cancel.onclick = () => {\n",
              "      resolve(null);\n",
              "    };\n",
              "  });\n",
              "\n",
              "  // Wait for the user to pick the files.\n",
              "  const files = yield {\n",
              "    promise: Promise.race([pickedPromise, cancelPromise]),\n",
              "    response: {\n",
              "      action: 'starting',\n",
              "    }\n",
              "  };\n",
              "\n",
              "  cancel.remove();\n",
              "\n",
              "  // Disable the input element since further picks are not allowed.\n",
              "  inputElement.disabled = true;\n",
              "\n",
              "  if (!files) {\n",
              "    return {\n",
              "      response: {\n",
              "        action: 'complete',\n",
              "      }\n",
              "    };\n",
              "  }\n",
              "\n",
              "  for (const file of files) {\n",
              "    const li = document.createElement('li');\n",
              "    li.append(span(file.name, {fontWeight: 'bold'}));\n",
              "    li.append(span(\n",
              "        `(${file.type || 'n/a'}) - ${file.size} bytes, ` +\n",
              "        `last modified: ${\n",
              "            file.lastModifiedDate ? file.lastModifiedDate.toLocaleDateString() :\n",
              "                                    'n/a'} - `));\n",
              "    const percent = span('0% done');\n",
              "    li.appendChild(percent);\n",
              "\n",
              "    outputElement.appendChild(li);\n",
              "\n",
              "    const fileDataPromise = new Promise((resolve) => {\n",
              "      const reader = new FileReader();\n",
              "      reader.onload = (e) => {\n",
              "        resolve(e.target.result);\n",
              "      };\n",
              "      reader.readAsArrayBuffer(file);\n",
              "    });\n",
              "    // Wait for the data to be ready.\n",
              "    let fileData = yield {\n",
              "      promise: fileDataPromise,\n",
              "      response: {\n",
              "        action: 'continue',\n",
              "      }\n",
              "    };\n",
              "\n",
              "    // Use a chunked sending to avoid message size limits. See b/62115660.\n",
              "    let position = 0;\n",
              "    do {\n",
              "      const length = Math.min(fileData.byteLength - position, MAX_PAYLOAD_SIZE);\n",
              "      const chunk = new Uint8Array(fileData, position, length);\n",
              "      position += length;\n",
              "\n",
              "      const base64 = btoa(String.fromCharCode.apply(null, chunk));\n",
              "      yield {\n",
              "        response: {\n",
              "          action: 'append',\n",
              "          file: file.name,\n",
              "          data: base64,\n",
              "        },\n",
              "      };\n",
              "\n",
              "      let percentDone = fileData.byteLength === 0 ?\n",
              "          100 :\n",
              "          Math.round((position / fileData.byteLength) * 100);\n",
              "      percent.textContent = `${percentDone}% done`;\n",
              "\n",
              "    } while (position < fileData.byteLength);\n",
              "  }\n",
              "\n",
              "  // All done.\n",
              "  yield {\n",
              "    response: {\n",
              "      action: 'complete',\n",
              "    }\n",
              "  };\n",
              "}\n",
              "\n",
              "scope.google = scope.google || {};\n",
              "scope.google.colab = scope.google.colab || {};\n",
              "scope.google.colab._files = {\n",
              "  _uploadFiles,\n",
              "  _uploadFilesContinue,\n",
              "};\n",
              "})(self);\n",
              "</script> "
            ]
          },
          "metadata": {}
        },
        {
          "output_type": "stream",
          "name": "stdout",
          "text": [
            "Saving student_marks_updated.csv to student_marks_updated.csv\n"
          ]
        }
      ]
    },
    {
      "cell_type": "code",
      "source": [
        "# data load\n",
        "\n",
        "data = np.genfromtxt('student_marks_updated.csv' ,delimiter=',',skip_header=1)\n",
        "\n",
        "print(data)"
      ],
      "metadata": {
        "colab": {
          "base_uri": "https://localhost:8080/"
        },
        "id": "0-wmpm3Cp2Fv",
        "outputId": "34795f3b-a95b-41ce-c0b4-708265851354"
      },
      "execution_count": 10,
      "outputs": [
        {
          "output_type": "stream",
          "name": "stdout",
          "text": [
            "[[85. 88. 82.]\n",
            " [78. 74. 77.]\n",
            " [92. 96. 90.]\n",
            " [88. 82. 86.]\n",
            " [76. 79. 75.]\n",
            " [90. 91. 88.]\n",
            " [81. 85. 80.]\n",
            " [95. 97. 93.]\n",
            " [67. 69. 70.]\n",
            " [83. 80. 85.]\n",
            " [74. 75. 78.]\n",
            " [89. 92. 87.]\n",
            " [91. 89. 90.]\n",
            " [72. 73. 74.]\n",
            " [80. 84. 81.]\n",
            " [77. 76. 76.]\n",
            " [86. 87. 84.]\n",
            " [93. 94. 91.]\n",
            " [70. 72. 73.]\n",
            " [84. 83. 82.]]\n"
          ]
        }
      ]
    },
    {
      "cell_type": "code",
      "source": [
        "# statistics\n",
        "math_marks = data[::,:1]\n",
        "\n",
        "print(math_marks.T)  # to see it row wise uses(.T) math_marks.T\n",
        "\n",
        "max_math_marks = np.max(math_marks)\n",
        "print(max_math_marks)\n",
        "\n",
        "min_math_marks = np.min(math_marks)\n",
        "print(min_math_marks)\n",
        "\n",
        "average_math_marks = np.mean(math_marks)\n",
        "print(average_math_marks)\n",
        "\n",
        "median_math_marks = np.median(math_marks)\n",
        "print(median_math_marks)\n",
        "\n",
        "# standard deviation\n",
        "\n",
        "std_math_marks = np.std(math_marks)\n",
        "print(std_math_marks)"
      ],
      "metadata": {
        "colab": {
          "base_uri": "https://localhost:8080/"
        },
        "id": "_KU01wT2qnR6",
        "outputId": "46c13567-1294-45ed-e73b-dd566da50656"
      },
      "execution_count": 11,
      "outputs": [
        {
          "output_type": "stream",
          "name": "stdout",
          "text": [
            "[[85. 78. 92. 88. 76. 90. 81. 95. 67. 83. 74. 89. 91. 72. 80. 77. 86. 93.\n",
            "  70. 84.]]\n",
            "95.0\n",
            "67.0\n",
            "82.55\n",
            "83.5\n",
            "7.933946054769971\n"
          ]
        }
      ]
    },
    {
      "cell_type": "code",
      "source": [
        "study_hours = np.array([2, 4, 5, 7, 8])\n",
        "exam_scores = np.array([65, 75, 78, 88, 92])\n",
        "\n",
        "data = np.array([study_hours, exam_scores])\n",
        "print(data)"
      ],
      "metadata": {
        "id": "kslBmTcOrLMX",
        "colab": {
          "base_uri": "https://localhost:8080/"
        },
        "outputId": "cc5387c4-6c18-4cc3-e94b-33f31583bf56"
      },
      "execution_count": 13,
      "outputs": [
        {
          "output_type": "stream",
          "name": "stdout",
          "text": [
            "[[ 2  4  5  7  8]\n",
            " [65 75 78 88 92]]\n"
          ]
        }
      ]
    },
    {
      "cell_type": "code",
      "source": [
        "correlation = np.corrcoef(data)\n",
        "\n",
        "print(\"Correlation Matrix:\\n\", correlation)"
      ],
      "metadata": {
        "colab": {
          "base_uri": "https://localhost:8080/"
        },
        "id": "HXOZOsLpCrCJ",
        "outputId": "9ebf5b53-11fc-4bdb-913f-486b733d8756"
      },
      "execution_count": 14,
      "outputs": [
        {
          "output_type": "stream",
          "name": "stdout",
          "text": [
            "Correlation Matrix:\n",
            " [[1.         0.99859154]\n",
            " [0.99859154 1.        ]]\n"
          ]
        }
      ]
    },
    {
      "cell_type": "code",
      "source": [],
      "metadata": {
        "id": "_L5pKt0IC1On"
      },
      "execution_count": null,
      "outputs": []
    },
    {
      "cell_type": "markdown",
      "source": [
        "# linear algebra"
      ],
      "metadata": {
        "id": "-DV1iz9GGjEK"
      }
    },
    {
      "cell_type": "code",
      "source": [
        "A = np.array([\n",
        "    [1, 2, 3],\n",
        "    [4, 5, 6]\n",
        "])\n",
        "\n",
        "B = np.array([\n",
        "    [7, 8],\n",
        "    [9, 10],\n",
        "    [11, 12]\n",
        "])\n",
        "\n",
        "# a er column and b er row same length hote hobe\n",
        "dot_product = np.dot(A,B)      # matrix multiplication: np.dot(matrix1,matrix2)\n",
        "print(dot_product)\n",
        "\n",
        "\n",
        "# trace\n",
        "print(np.trace(dot_product))"
      ],
      "metadata": {
        "colab": {
          "base_uri": "https://localhost:8080/"
        },
        "id": "V6pf4kOgGjuy",
        "outputId": "f6e972fa-ac26-4cdf-90d2-c893feb66fa3"
      },
      "execution_count": 16,
      "outputs": [
        {
          "output_type": "stream",
          "name": "stdout",
          "text": [
            "[[ 58  64]\n",
            " [139 154]]\n",
            "212\n"
          ]
        }
      ]
    },
    {
      "cell_type": "code",
      "source": [
        "sq_mat = np.array([[11,21,31],\n",
        "          [4,5,6],\n",
        "          [2,7,11]\n",
        "         ])\n",
        "\n",
        "det_of_sq = np.linalg.det(sq_mat)\n",
        "\n",
        "rank_sq = np.linalg.matrix_rank(sq_mat)\n",
        "\n",
        "print(det_of_sq)\n",
        "\n",
        "print(rank_sq)"
      ],
      "metadata": {
        "colab": {
          "base_uri": "https://localhost:8080/"
        },
        "id": "_--4CVXUG0Vj",
        "outputId": "2b3e6dce-433c-4ad6-b282-3598c8b5ca9f"
      },
      "execution_count": 24,
      "outputs": [
        {
          "output_type": "stream",
          "name": "stdout",
          "text": [
            "29.00000000000003\n",
            "3\n"
          ]
        }
      ]
    },
    {
      "cell_type": "code",
      "source": [
        "A = np.array([[1, 2], [3, 4]])\n",
        "B = np.array([[5, 6], [7, 8]])\n",
        "\n",
        "print(np.dot(A,B))"
      ],
      "metadata": {
        "colab": {
          "base_uri": "https://localhost:8080/"
        },
        "id": "hVr8doeDHfm5",
        "outputId": "37d9bd99-41a6-438c-b995-f66721941b2c"
      },
      "execution_count": 25,
      "outputs": [
        {
          "output_type": "stream",
          "name": "stdout",
          "text": [
            "[[19 22]\n",
            " [43 50]]\n"
          ]
        }
      ]
    },
    {
      "cell_type": "code",
      "source": [],
      "metadata": {
        "id": "PZllOuKtQOrH"
      },
      "execution_count": null,
      "outputs": []
    }
  ]
}