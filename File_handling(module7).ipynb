{
  "nbformat": 4,
  "nbformat_minor": 0,
  "metadata": {
    "colab": {
      "provenance": [],
      "include_colab_link": true
    },
    "kernelspec": {
      "name": "python3",
      "display_name": "Python 3"
    },
    "language_info": {
      "name": "python"
    }
  },
  "cells": [
    {
      "cell_type": "markdown",
      "metadata": {
        "id": "view-in-github",
        "colab_type": "text"
      },
      "source": [
        "<a href=\"https://colab.research.google.com/github/turon41/Python-for-ML/blob/main/File_handling(module7).ipynb\" target=\"_parent\"><img src=\"https://colab.research.google.com/assets/colab-badge.svg\" alt=\"Open In Colab\"/></a>"
      ]
    },
    {
      "cell_type": "code",
      "execution_count": null,
      "metadata": {
        "colab": {
          "base_uri": "https://localhost:8080/"
        },
        "id": "8xWLLxLZY8s1",
        "outputId": "ad6adcff-24f6-43a3-dfd3-0c27118c2ef1"
      },
      "outputs": [
        {
          "output_type": "stream",
          "name": "stdout",
          "text": [
            "Hello world\n",
            "welcome to the AI/ML World.\n",
            "bye\n",
            "<class 'str'>\n"
          ]
        }
      ],
      "source": [
        "file = open(\"./sample_data/sample.txt\",\"r\")\n",
        "content = file.read()\n",
        "print(content)\n",
        "print(type(content))"
      ]
    },
    {
      "cell_type": "code",
      "source": [
        "file = open(\"./sample_data/sample.txt\",\"r\")\n",
        "content2 = file.readlines()\n",
        "print(content2)\n",
        "print(type(content2))\n",
        "file.close()\n",
        "\n",
        "print(file.closed)"
      ],
      "metadata": {
        "colab": {
          "base_uri": "https://localhost:8080/"
        },
        "id": "U5NItIR5Zqmw",
        "outputId": "4d5a76aa-9a48-44f2-9f88-5d0550b19291"
      },
      "execution_count": 5,
      "outputs": [
        {
          "output_type": "stream",
          "name": "stdout",
          "text": [
            "['Hello world\\n', 'welcome to the AI/ML World.\\n', 'bye']\n",
            "<class 'list'>\n",
            "True\n"
          ]
        }
      ]
    },
    {
      "cell_type": "code",
      "source": [
        "#with use kre file open krle alada kre close kora lge na,,kaaz shesh hole automatically close hye jay\n",
        "\n",
        "with open(\"./sample_data/sample.txt\",\"r\") as file:\n",
        "  content2 = file.readlines()\n",
        "  print(content2)\n",
        "  print(type(content2))\n",
        "\n",
        "print(file.closed)\n",
        "\n"
      ],
      "metadata": {
        "colab": {
          "base_uri": "https://localhost:8080/"
        },
        "id": "-jMG9vizbs60",
        "outputId": "0304390e-4a6e-467c-891e-94a27dc6df58"
      },
      "execution_count": null,
      "outputs": [
        {
          "output_type": "stream",
          "name": "stdout",
          "text": [
            "['Hello world\\n', 'welcome to the AI/ML World.\\n', 'bye']\n",
            "<class 'list'>\n",
            "True\n"
          ]
        }
      ]
    },
    {
      "cell_type": "code",
      "source": [
        "with open(\"./sample_data/sample.txt\",\"r\") as file:\n",
        "  for line in file:\n",
        "    l = line.strip()\n",
        "    print(l)\n"
      ],
      "metadata": {
        "colab": {
          "base_uri": "https://localhost:8080/"
        },
        "id": "4QNzi9hCdDeL",
        "outputId": "f7df7035-2098-4de8-e088-796dee50430f"
      },
      "execution_count": null,
      "outputs": [
        {
          "output_type": "stream",
          "name": "stdout",
          "text": [
            "Hello world\n",
            "welcome to the AI/ML World.\n",
            "bye\n"
          ]
        }
      ]
    },
    {
      "cell_type": "code",
      "source": [
        "with open(\"./sample_data/test.txt\",\"w\") as file:\n",
        "  file.write(\"Hello test file\\n\")\n",
        "  file.write(\"How is learning going on?\")"
      ],
      "metadata": {
        "id": "i-S3ytPWeFyN"
      },
      "execution_count": null,
      "outputs": []
    },
    {
      "cell_type": "code",
      "source": [
        "#Creating a new file and writing there\n",
        "\n",
        "with open(\"./sample_data/test.txt\",\"w\") as file:\n",
        "  file.write(\"Hello test file\\n\")\n",
        "  file.write(\"How is learning going on?\")"
      ],
      "metadata": {
        "id": "EhrDQiumgffE"
      },
      "execution_count": null,
      "outputs": []
    },
    {
      "cell_type": "code",
      "source": [
        "#writing on an existing file\n",
        "#it overwrites the file\n",
        "\n",
        "with open(\"./sample_data/test.txt\",\"w\") as file:\n",
        "  file.write(\" Hi test file\\n\")\n",
        "  file.write(\"learnig is good\\n\")"
      ],
      "metadata": {
        "id": "go9Hm-p5hgux"
      },
      "execution_count": null,
      "outputs": []
    },
    {
      "cell_type": "code",
      "source": [
        "#No overwriting, just append the text later\n",
        "#append mode\n",
        "\n",
        "with open(\"./sample_data/test.txt\",\"a\") as file:\n",
        "  file.write(\" Hi \\n\")\n",
        "  file.write(\"learnig\")"
      ],
      "metadata": {
        "id": "lh_wAlu-h49M"
      },
      "execution_count": null,
      "outputs": []
    },
    {
      "cell_type": "code",
      "source": [
        "#DILE CURSOR/POINTER\n",
        "\n",
        "with open(\"./sample_data/sample.txt\",\"r\") as file:\n",
        "  print(file.tell())  #Currently cursor ta koi ase\n",
        "  print(file.read())\n",
        "\n",
        "  print(file.tell()) # cursor ekdm last index e\n",
        "\n",
        "  print(file.read()) # jehetu last index e,kichu read krte parbe na"
      ],
      "metadata": {
        "colab": {
          "base_uri": "https://localhost:8080/"
        },
        "id": "2VNzBN1Tiesb",
        "outputId": "e9a88466-ed4c-4269-ce8a-ebada22110d8"
      },
      "execution_count": null,
      "outputs": [
        {
          "output_type": "stream",
          "name": "stdout",
          "text": [
            "0\n",
            "Hello world\n",
            "11\n",
            "\n"
          ]
        }
      ]
    },
    {
      "cell_type": "code",
      "source": [
        "with open(\"./sample_data/sample.txt\",\"r\") as file:\n",
        "  print(file.tell())  #Currently cursor ta koi ase\n",
        "  print(file.read(5))\n",
        "  print(file.tell())\n",
        "  print(file.read())\n",
        "  print(file.tell())\n"
      ],
      "metadata": {
        "colab": {
          "base_uri": "https://localhost:8080/"
        },
        "id": "_njcEldtrPMQ",
        "outputId": "a926f2f5-811e-43cb-a6fc-a84688d2aef8"
      },
      "execution_count": null,
      "outputs": [
        {
          "output_type": "stream",
          "name": "stdout",
          "text": [
            "0\n",
            "Hello\n",
            "5\n",
            " world\n",
            "11\n"
          ]
        }
      ]
    },
    {
      "cell_type": "code",
      "source": [
        "#seek(cursor ke move kra hy er madddhome)\n",
        "with open(\"./sample_data/sample.txt\",\"r\") as file:\n",
        "  print(file.tell())\n",
        "  print(file.read(5))\n",
        "  print(file.tell())\n",
        "\n",
        "\n",
        "  file.seek(0) # cursor ke abr zero index e niye asha holo\n",
        "\n",
        "  print(file.tell())\n",
        "  print(file.read(5))\n",
        "\n"
      ],
      "metadata": {
        "colab": {
          "base_uri": "https://localhost:8080/"
        },
        "id": "cRnfp06FsVL9",
        "outputId": "6436a3f0-5390-4864-9d39-8b5d478b2af5"
      },
      "execution_count": null,
      "outputs": [
        {
          "output_type": "stream",
          "name": "stdout",
          "text": [
            "0\n",
            "Hello\n",
            "5\n",
            "0\n",
            "Hello\n"
          ]
        }
      ]
    },
    {
      "cell_type": "code",
      "source": [],
      "metadata": {
        "id": "bWUjN8ZvuTeG"
      },
      "execution_count": null,
      "outputs": []
    },
    {
      "cell_type": "markdown",
      "source": [
        "Get the text from sample.txt , and count the following\n",
        "\n",
        "Number of lines\n",
        "\n",
        "Number of words\n",
        "\n",
        "Number of characters\n",
        "\n",
        "and save it to the counter_of_string.txt file"
      ],
      "metadata": {
        "id": "6JzS7KmeKxtj"
      }
    },
    {
      "cell_type": "code",
      "source": [
        "with open(\"./sample_data/sample.txt\",\"r\") as file:\n",
        "  print(file.read())"
      ],
      "metadata": {
        "colab": {
          "base_uri": "https://localhost:8080/"
        },
        "id": "4A6gJgoIKyio",
        "outputId": "85038051-e5ad-4a17-aa50-033515a93ea0"
      },
      "execution_count": null,
      "outputs": [
        {
          "output_type": "stream",
          "name": "stdout",
          "text": [
            "Hello world\n",
            "welcome to the AI/ML World.\n",
            "bye\n"
          ]
        }
      ]
    },
    {
      "cell_type": "code",
      "source": [
        "from functools import reduce\n",
        "#total line koita\n",
        "with open(\"./sample_data/sample.txt\",\"r\") as file:\n",
        "  st_list = (file.readlines())\n",
        "  total_lines = len(st_list)\n",
        "\n",
        "  #print(total_lines)\n",
        "\n",
        "\n",
        "#word koita ber krbo\n",
        "num_words = list(map(lambda x: len(x.split()),st_list))\n",
        "#print(num_words)\n",
        "\n",
        "#total koita word ase ber krbo\n",
        "tot_num_words = reduce(lambda x,y: x+y,num_words)\n",
        "#print(tot_num_words)\n",
        "\n",
        "#cleaning process\n",
        "\n",
        "#1.new line delete\n",
        "st_list = list(map(str.strip,st_list))\n",
        "print((st_list))\n",
        "\n",
        "#2.space delete\n",
        "\n",
        "st_list = list(map(lambda x: x.replace(\" \",\"\"),st_list))\n",
        "print(st_list)\n",
        "\n",
        "#koita character\n",
        "\n",
        "num_chars = list(map(lambda x: len(x),st_list))\n",
        "print(num_chars)\n",
        "\n",
        "#total characters\n",
        "\n",
        "tot_num_chars = reduce(lambda x,y: x+y,num_chars)\n",
        "print(tot_num_chars)\n",
        "\n",
        "with open(\"./sample_data/counter_of_string.txt\",\"w\") as file:\n",
        "  file.write(f\"total line: {total_lines}\\ntotal number of words:{tot_num_words}\\ntotal number of char: {tot_num_chars}\")\n",
        "\n",
        "\n",
        "\n"
      ],
      "metadata": {
        "colab": {
          "base_uri": "https://localhost:8080/"
        },
        "id": "X5U7neMNM08K",
        "outputId": "201c937a-ddb5-402d-9a2c-a0e05e108bd6"
      },
      "execution_count": 4,
      "outputs": [
        {
          "output_type": "stream",
          "name": "stdout",
          "text": [
            "['Hello world', 'welcome to the AI/ML World.', 'bye']\n",
            "['Helloworld', 'welcometotheAI/MLWorld.', 'bye']\n",
            "[10, 23, 3]\n",
            "36\n"
          ]
        }
      ]
    },
    {
      "cell_type": "code",
      "source": [],
      "metadata": {
        "id": "WcxBq2qDPdQZ"
      },
      "execution_count": null,
      "outputs": []
    },
    {
      "cell_type": "markdown",
      "source": [
        "Practice 2\n",
        "Write then read with one open"
      ],
      "metadata": {
        "id": "pLEmGxNGUmTc"
      }
    },
    {
      "cell_type": "code",
      "source": [
        "#Mode: 'w+' --> eta read + write 2tai kre\n",
        "with open(\"./sample_data/write_read.txt\",\"w+\") as file:\n",
        "  file.write(\"Hello world ,hi hello\")\n",
        "\n",
        "  print(file.tell())\n",
        "\n",
        "  file.seek(0)\n",
        "  print(file.tell())\n",
        "\n",
        "  print(file.read())\n",
        "\n",
        "  file.truncate(5)  # 5no index theke porer sob value delete kre\n",
        "  file.seek(0)\n",
        "  print(file.read())\n",
        "\n",
        "\n"
      ],
      "metadata": {
        "colab": {
          "base_uri": "https://localhost:8080/"
        },
        "id": "jDEaEbW3UnQT",
        "outputId": "9d0f0b17-adf7-4c9f-b5d3-aef35b3de576"
      },
      "execution_count": 1,
      "outputs": [
        {
          "output_type": "stream",
          "name": "stdout",
          "text": [
            "21\n",
            "0\n",
            "Hello world ,hi hello\n",
            "Hello\n"
          ]
        }
      ]
    },
    {
      "cell_type": "code",
      "source": [],
      "metadata": {
        "id": "Dcm5KxxcU3sM"
      },
      "execution_count": null,
      "outputs": []
    }
  ]
}