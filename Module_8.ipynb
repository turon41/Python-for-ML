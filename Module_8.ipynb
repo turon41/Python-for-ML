{
  "nbformat": 4,
  "nbformat_minor": 0,
  "metadata": {
    "colab": {
      "provenance": [],
      "authorship_tag": "ABX9TyOzaqHpqUhK7Mu9E3OYmd93",
      "include_colab_link": true
    },
    "kernelspec": {
      "name": "python3",
      "display_name": "Python 3"
    },
    "language_info": {
      "name": "python"
    }
  },
  "cells": [
    {
      "cell_type": "markdown",
      "metadata": {
        "id": "view-in-github",
        "colab_type": "text"
      },
      "source": [
        "<a href=\"https://colab.research.google.com/github/turon41/Python-for-ML/blob/main/Module_8.ipynb\" target=\"_parent\"><img src=\"https://colab.research.google.com/assets/colab-badge.svg\" alt=\"Open In Colab\"/></a>"
      ]
    },
    {
      "cell_type": "code",
      "execution_count": null,
      "metadata": {
        "id": "sAIT0ky24mOy"
      },
      "outputs": [],
      "source": []
    },
    {
      "cell_type": "markdown",
      "source": [
        "# Class and Objects"
      ],
      "metadata": {
        "id": "r3XcVymy4t7T"
      }
    },
    {
      "cell_type": "code",
      "source": [
        "# base class / parent class\n",
        "class Phone:\n",
        "  category = \"Electronics\"\n",
        "\n",
        "  # constructor\n",
        "\n",
        "  def __init__(self,model , battery , camera,battery_percentage=100):\n",
        "    self.model = model\n",
        "    self.battery = battery\n",
        "    self.camera = camera\n",
        "    self.battery_percentage = battery_percentage\n",
        "\n",
        " # methods\n",
        "  def charge(self,hour):\n",
        "    print(f\"charge completed by {hour}\")\n",
        "\n",
        "  def capture(self,photo):\n",
        "    if(self.battery_percentage)<=0:\n",
        "      print(\"No charge\")\n",
        "    else:\n",
        "      self.battery_percentage-=photo\n",
        "      print(f\"photo captured in {self.model}\")\n",
        "\n",
        "\n",
        "class Cooling_Mechanism:                            # multiple inheritance er xmpl er jnno use hocche\n",
        "  def __init__(self,cooling_method):\n",
        "    self.cooling_method= cooling_method\n",
        "\n",
        "\n",
        "  #methods\n",
        "  def cooling_on(self):\n",
        "    print(f\"the system is being cool by {self.cooling_method}\")\n",
        "\n"
      ],
      "metadata": {
        "id": "vJJAWXlK4v4l"
      },
      "execution_count": null,
      "outputs": []
    },
    {
      "cell_type": "code",
      "source": [
        "## creating object\n",
        "\n",
        "apple = Phone(\"Iphone17\",3000,40)\n",
        "blueberry = Phone(\"B-17\",4000,30)\n",
        "motorola = Phone(\"M-17\",3500,35)\n",
        "apple.capture(100)\n",
        "print(apple.battery_percentage)\n",
        "print(motorola.battery_percentage)\n",
        "print(apple.capture(30))\n"
      ],
      "metadata": {
        "colab": {
          "base_uri": "https://localhost:8080/"
        },
        "id": "gdmSUqN15Fi1",
        "outputId": "cd13270c-61f9-401a-d686-c0fcf1153784"
      },
      "execution_count": null,
      "outputs": [
        {
          "output_type": "stream",
          "name": "stdout",
          "text": [
            "photo captured in Iphone17\n",
            "0\n",
            "100\n",
            "No charge\n",
            "None\n"
          ]
        }
      ]
    },
    {
      "cell_type": "code",
      "source": [],
      "metadata": {
        "id": "vP0Gpj035JvZ"
      },
      "execution_count": null,
      "outputs": []
    },
    {
      "cell_type": "markdown",
      "source": [
        "# Single Inheritance"
      ],
      "metadata": {
        "id": "Eru8joGZYwSY"
      }
    },
    {
      "cell_type": "code",
      "source": [
        "# child / derived class\n",
        "class SmartPhone(Phone):\n",
        "  def __init__(self,model , battery , camera,processor):\n",
        "    super().__init__(model,battery,camera)\n",
        "    self.processor = processor\n",
        "\n",
        "   ## modified method\n",
        "  def charge(self,hour):\n",
        "    print(\"fast charging in process\")\n",
        "    super().charge(hour)"
      ],
      "metadata": {
        "id": "M_NFixGlYx9e"
      },
      "execution_count": null,
      "outputs": []
    },
    {
      "cell_type": "code",
      "source": [
        "pro = SmartPhone(\"X\",5000,100,\"SnapDragon\")\n",
        "\n",
        "print(pro.model)\n",
        "\n",
        "pro.charge(39)"
      ],
      "metadata": {
        "colab": {
          "base_uri": "https://localhost:8080/"
        },
        "id": "SGTHJkcOY6H8",
        "outputId": "61f7e4b6-7976-4c2e-dc3e-4e9bb9dab989"
      },
      "execution_count": null,
      "outputs": [
        {
          "output_type": "stream",
          "name": "stdout",
          "text": [
            "X\n",
            "fast charging in process\n",
            "charge completed by 39\n"
          ]
        }
      ]
    },
    {
      "cell_type": "code",
      "source": [],
      "metadata": {
        "id": "3yz1ULj-Y7sT"
      },
      "execution_count": null,
      "outputs": []
    },
    {
      "cell_type": "markdown",
      "source": [
        "# Multiple Inheritance"
      ],
      "metadata": {
        "id": "86D9iWr7ZFaU"
      }
    },
    {
      "cell_type": "code",
      "source": [
        "class SmartPhone_CoolingMode(SmartPhone,Cooling_Mechanism):\n",
        "   def __init__(self,model , battery , camera,processor,cooling_method):\n",
        "    SmartPhone.__init__(self,model,battery,camera,processor)\n",
        "    Cooling_Mechanism.__init__(self,cooling_method)"
      ],
      "metadata": {
        "id": "dfSFJUM-ZGEq"
      },
      "execution_count": null,
      "outputs": []
    },
    {
      "cell_type": "code",
      "source": [
        "pro_cooling = SmartPhone_CoolingMode(\"Y\",5000,100,\"SD\",\"Nitrogen\")\n",
        "\n",
        "print(pro_cooling.processor) # SmartPhone class theke\n",
        "print(pro_cooling.battery) # Phone class theke\n",
        "print(pro_cooling.cooling_method) # Cooling_Mechanism class theke\n",
        "print(pro_cooling.cooling_on()) # Cooling_Mechanism class er method\n",
        "print(pro_cooling.charge(1)) # SmartPhone er modified charge jeta Phone class theke inherited"
      ],
      "metadata": {
        "colab": {
          "base_uri": "https://localhost:8080/"
        },
        "id": "s3EMNz8oZOqJ",
        "outputId": "d976f38c-1341-4714-c582-39968b23d015"
      },
      "execution_count": null,
      "outputs": [
        {
          "output_type": "stream",
          "name": "stdout",
          "text": [
            "SD\n",
            "5000\n",
            "Nitrogen\n",
            "the system is being cool by Nitrogen\n",
            "None\n",
            "fast charging in process\n",
            "charge completed by 1\n",
            "None\n"
          ]
        }
      ]
    },
    {
      "cell_type": "code",
      "source": [],
      "metadata": {
        "id": "AERrx65gZoF2"
      },
      "execution_count": null,
      "outputs": []
    },
    {
      "cell_type": "markdown",
      "source": [
        "# Polymorphism"
      ],
      "metadata": {
        "id": "UQeo1s6W8Xav"
      }
    },
    {
      "cell_type": "code",
      "source": [
        "class Camera:\n",
        "  def __init__(self , name):\n",
        "    self.name = name\n",
        "\n",
        " # method\n",
        "  def capture(self):\n",
        "    print(\"a photo is captured\")"
      ],
      "metadata": {
        "id": "MXgq0ULX8Zxi"
      },
      "execution_count": null,
      "outputs": []
    },
    {
      "cell_type": "code",
      "source": [
        "class Smart_Phone(Camera):\n",
        "  def __init__(self,name,resolution):\n",
        "    super().__init__(name)\n",
        "    self.resolution = resolution\n",
        "\n",
        "  #method overriding\n",
        "  def capture(self):\n",
        "    print(\"Photo is captured by a Phone\")\n",
        "\n",
        "\n",
        "class DSLR(Camera):\n",
        "  def __init__(self,name,resolution):\n",
        "    super().__init__(name)\n",
        "    self.resolution = resolution\n",
        "\n",
        "  def capture(self):\n",
        "    print(\"Photo is captured  by DSLR\")\n",
        "\n",
        "\n",
        "\n",
        "class Drone(Camera):\n",
        "  def __init__(self,name,resolution):\n",
        "    super().__init__(name)\n",
        "    self.resolution = resolution\n",
        "\n",
        "  def capture(self):\n",
        "    print(\"Photo is captured by Drone\")\n",
        "\n",
        "\n",
        "\n",
        "phone = Smart_Phone(\"Phone\",30)\n",
        "dslr = DSLR (\"DSLR\",200)\n",
        "drone = Drone(\"Drone\",150)\n",
        "\n",
        "\n",
        "phone.capture()\n",
        "dslr.capture()\n",
        "drone.capture()"
      ],
      "metadata": {
        "colab": {
          "base_uri": "https://localhost:8080/"
        },
        "id": "ITSufxIq9weV",
        "outputId": "a942e761-e525-4183-a2ca-c3c45765609e"
      },
      "execution_count": null,
      "outputs": [
        {
          "output_type": "stream",
          "name": "stdout",
          "text": [
            "Photo is captured by a Phone\n",
            "Photo is captured  by DSLR\n",
            "Photo is captured by Drone\n"
          ]
        }
      ]
    },
    {
      "cell_type": "markdown",
      "source": [
        "# Encapsulaiton"
      ],
      "metadata": {
        "id": "xqqsQ8Zg2Lft"
      }
    },
    {
      "cell_type": "code",
      "source": [
        "# design\n",
        "class Mobile:\n",
        "  def __init__(self,name,model,imei):\n",
        "    self.__name = name\n",
        "    self.__model = model\n",
        "    self.__imei = imei # private\n",
        "\n",
        "  def charge(self):\n",
        "    print(\"phone is charging\")\n",
        "\n",
        "  # method imei ta paite pari\n",
        "  def imei_getter(self):\n",
        "    return self.__imei\n",
        "  def model_getter(self):\n",
        "    return self.__model\n",
        "\n",
        "\n",
        "\n",
        "  def name_getter(self):\n",
        "    return self.__name\n",
        "\n",
        "\n",
        "  def name_setter(self,name):\n",
        "    self.__name = name\n",
        "\n",
        "\n",
        "#outside world ( user )\n",
        "\n",
        "# registration\n",
        "iphone = Mobile(\"Phone\",\"17\",\"1xkaf1\")\n",
        "\n",
        "print(iphone.name_getter())\n",
        "\n",
        "iphone.name_setter(\"Phitron\")\n",
        "\n",
        "\n",
        "print(iphone.name_getter())"
      ],
      "metadata": {
        "colab": {
          "base_uri": "https://localhost:8080/"
        },
        "id": "3tZ0ttHq2Ggg",
        "outputId": "0ac85547-fb73-4180-f7cc-618cadf0dd49"
      },
      "execution_count": 4,
      "outputs": [
        {
          "output_type": "stream",
          "name": "stdout",
          "text": [
            "Phone\n",
            "Phitron\n"
          ]
        }
      ]
    },
    {
      "cell_type": "code",
      "source": [],
      "metadata": {
        "id": "qDkUlMGq2XDP"
      },
      "execution_count": null,
      "outputs": []
    },
    {
      "cell_type": "markdown",
      "source": [
        "# Abstraction\n",
        "\n"
      ],
      "metadata": {
        "id": "YCdAL11E24eu"
      }
    },
    {
      "cell_type": "code",
      "source": [
        "\n",
        "from abc import  ABC , abstractmethod\n",
        "\n",
        "class Telephone(ABC):\n",
        "\n",
        "  @abstractmethod\n",
        "  def make_call(self):\n",
        "    pass\n",
        "\n",
        "\n",
        "\n",
        "class Sphone(Telephone):\n",
        "  def make_call(self):\n",
        "    print(\"Making a call using SPhone\")\n",
        "\n",
        "\n",
        "\n",
        "class Iphone(Telephone):\n",
        "   def make_call(self):\n",
        "    print(\"Making a call using IPhone\")"
      ],
      "metadata": {
        "id": "RfgAdBkH28eB"
      },
      "execution_count": 5,
      "outputs": []
    },
    {
      "cell_type": "code",
      "source": [
        "ip = Iphone()\n",
        "\n",
        "ip.make_call()"
      ],
      "metadata": {
        "colab": {
          "base_uri": "https://localhost:8080/"
        },
        "id": "dghz9L5W3xcY",
        "outputId": "6a8dde03-7a27-4c55-9b2f-6689af709de6"
      },
      "execution_count": 7,
      "outputs": [
        {
          "output_type": "stream",
          "name": "stdout",
          "text": [
            "Making a call using IPhone\n"
          ]
        }
      ]
    },
    {
      "cell_type": "code",
      "source": [],
      "metadata": {
        "id": "H2B9naLK367C"
      },
      "execution_count": null,
      "outputs": []
    }
  ]
}