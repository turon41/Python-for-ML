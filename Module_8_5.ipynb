{
  "nbformat": 4,
  "nbformat_minor": 0,
  "metadata": {
    "colab": {
      "provenance": [],
      "authorship_tag": "ABX9TyMy+VmRyu59IL8i68FuBYxZ",
      "include_colab_link": true
    },
    "kernelspec": {
      "name": "python3",
      "display_name": "Python 3"
    },
    "language_info": {
      "name": "python"
    }
  },
  "cells": [
    {
      "cell_type": "markdown",
      "metadata": {
        "id": "view-in-github",
        "colab_type": "text"
      },
      "source": [
        "<a href=\"https://colab.research.google.com/github/turon41/Python-for-ML/blob/main/Module_8_5.ipynb\" target=\"_parent\"><img src=\"https://colab.research.google.com/assets/colab-badge.svg\" alt=\"Open In Colab\"/></a>"
      ]
    },
    {
      "cell_type": "code",
      "execution_count": null,
      "metadata": {
        "id": "M2utTnXzWiPp"
      },
      "outputs": [],
      "source": []
    },
    {
      "cell_type": "markdown",
      "source": [
        "# Module 8.5"
      ],
      "metadata": {
        "id": "XLjr9Ms_tIVT"
      }
    },
    {
      "cell_type": "code",
      "source": [],
      "metadata": {
        "id": "Sv4LndNwtLpg"
      },
      "execution_count": null,
      "outputs": []
    },
    {
      "cell_type": "markdown",
      "source": [
        "https://docs.google.com/document/d/1O6-kp9ImxHmRHsrcms7fy_wAWkFHklZCO80Rnq5_0OU/edit?tab=t.0"
      ],
      "metadata": {
        "id": "ge3FUC3ftfnH"
      }
    },
    {
      "cell_type": "code",
      "source": [
        "# Smart Vehicle Classifier\n",
        "\n",
        "# Base class\n",
        "class Vehicle:\n",
        "    def __init__(self, v_type, name, speed):\n",
        "        self._v_type = v_type       # Protected attribute\n",
        "        self.__name = name          # Private attribute\n",
        "        self.__speed = speed        # Private attribute\n",
        "\n",
        "    # Getter methods for encapsulation\n",
        "\n",
        "    def get_name(self):\n",
        "        return self.__name\n",
        "\n",
        "    def get_speed(self):\n",
        "        return self.__speed\n",
        "\n",
        "    def classify(self):\n",
        "        \"\"\"Classify based on speed threshold.\"\"\"\n",
        "        if self.__speed > 100:\n",
        "            return \"High-speed Vehicle\"\n",
        "        else:\n",
        "            return \"Normal Vehicle\"\n",
        "\n",
        "\n",
        "    def show_info(self):\n",
        "        \"\"\"Base method (to be overridden in subclasses).\"\"\"\n",
        "        return f\"Type: {self._v_type}, Name: {self.__name}, Speed: {self.__speed} km/h\"\n",
        "\n",
        "\n",
        "\n",
        "# Derived class for Car\n",
        "class Car(Vehicle):\n",
        "    def __init__(self, name, speed):\n",
        "        super().__init__(\"Car\", name, speed)\n",
        "\n",
        "    def show_info(self):\n",
        "        \"\"\"Override method to include classification.\"\"\"\n",
        "        return f\"Type: Car, Name: {self.get_name()}, Speed: {self.get_speed()} km/h, Predicted: {self.classify()}\"\n",
        "\n",
        "\n",
        "# Derived class for Bike\n",
        "class Bike(Vehicle):\n",
        "    def __init__(self, name, speed):\n",
        "        super().__init__(\"Bike\", name, speed)\n",
        "\n",
        "    def show_info(self):\n",
        "        \"\"\"Override method to include classification.\"\"\"\n",
        "        return f\"Type: , NBikeame: {self.get_name()}, Speed: {self.get_speed()} km/h, Predicted: {self.classify()}\"\n",
        "\n",
        "\n",
        "\n",
        "# Main logic\n",
        "def main():\n",
        "    vehicles = []\n",
        "\n",
        "    n = int(input())  # Number of vehicles\n",
        "    for _ in range(n):\n",
        "        data = input().split()\n",
        "        v_type, name, speed = data[0], data[1], int(data[2])\n",
        "\n",
        "        if v_type == \"Car\":\n",
        "            obj = Car(name, speed)\n",
        "        elif v_type == \"Bike\":\n",
        "            obj = Bike(name, speed)\n",
        "        else:\n",
        "            continue  # Ignore unknown types\n",
        "\n",
        "        vehicles.append(obj)\n",
        "        print(f\"{v_type} Added: {name}\")\n",
        "\n",
        "    print(\"\\n--- Vehicle Details ---\")\n",
        "    for v in vehicles:\n",
        "        print(v.show_info())\n",
        "\n",
        "\n",
        "# Run the program\n",
        "if __name__ == \"__main__\":\n",
        "    main()\n",
        "\n"
      ],
      "metadata": {
        "colab": {
          "base_uri": "https://localhost:8080/"
        },
        "id": "21Z3YT_vtRqa",
        "outputId": "56ff81ab-e5fa-43d9-a79c-f57a9fee814b"
      },
      "execution_count": null,
      "outputs": [
        {
          "output_type": "stream",
          "name": "stdout",
          "text": [
            "3\n",
            "Car Toyota 150\n",
            "Car Added: Toyota\n",
            "Bike Yamaha 90\n",
            "Bike Added: Yamaha\n",
            "Car Honda 120\n",
            "Car Added: Honda\n",
            "\n",
            "--- Vehicle Details ---\n",
            "Type: Car, Name: Toyota, Speed: 150 km/h, Predicted: High-speed Vehicle\n",
            "Type: , NBikeame: Yamaha, Speed: 90 km/h, Predicted: Normal Vehicle\n",
            "Type: Car, Name: Honda, Speed: 120 km/h, Predicted: High-speed Vehicle\n"
          ]
        }
      ]
    },
    {
      "cell_type": "code",
      "source": [],
      "metadata": {
        "id": "Ep36jEmv59nc"
      },
      "execution_count": null,
      "outputs": []
    }
  ]
}